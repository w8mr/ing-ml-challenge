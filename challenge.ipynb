{
  "nbformat": 4,
  "nbformat_minor": 0,
  "metadata": {
    "colab": {
      "name": "How_To-Kaggle_API_Colab.ipynb",
      "provenance": [],
      "collapsed_sections": [],
      "include_colab_link": true
    },
    "kernelspec": {
      "display_name": "Python 3",
      "language": "python",
      "name": "python3"
    },
    "language_info": {
      "codemirror_mode": {
        "name": "ipython",
        "version": 3
      },
      "file_extension": ".py",
      "mimetype": "text/x-python",
      "name": "python",
      "nbconvert_exporter": "python",
      "pygments_lexer": "ipython3",
      "version": "3.7.4"
    }
  },
  "cells": [
    {
      "cell_type": "markdown",
      "metadata": {
        "id": "view-in-github",
        "colab_type": "text"
      },
      "source": [
        "<a href=\"https://colab.research.google.com/github/w8mr/ing-ml-challenge/blob/master/challenge.ipynb\" target=\"_parent\"><img src=\"https://colab.research.google.com/assets/colab-badge.svg\" alt=\"Open In Colab\"/></a>"
      ]
    },
    {
      "cell_type": "markdown",
      "metadata": {
        "colab_type": "text",
        "id": "DIf2PtekjPtY"
      },
      "source": [
        "# Installing the [Kaggle API](https://github.com/Kaggle/kaggle-api) in Colab"
      ]
    },
    {
      "cell_type": "markdown",
      "metadata": {
        "colab_type": "text",
        "id": "_JgSgxmM1NGx"
      },
      "source": [
        "`kaggle` module should already be installed on Google Colab"
      ]
    },
    {
      "cell_type": "code",
      "metadata": {
        "colab_type": "code",
        "id": "OppyMnCuWjzJ",
        "outputId": "6477eb5b-6f2f-4ecd-c04f-3771a3b6494c",
        "colab": {
          "base_uri": "https://localhost:8080/",
          "height": 204
        }
      },
      "source": [
        "!pip install kaggle --upgrade"
      ],
      "execution_count": 1,
      "outputs": [
        {
          "output_type": "stream",
          "text": [
            "Requirement already up-to-date: kaggle in /usr/local/lib/python3.6/dist-packages (1.5.6)\n",
            "Requirement already satisfied, skipping upgrade: certifi in /usr/local/lib/python3.6/dist-packages (from kaggle) (2019.11.28)\n",
            "Requirement already satisfied, skipping upgrade: tqdm in /usr/local/lib/python3.6/dist-packages (from kaggle) (4.28.1)\n",
            "Requirement already satisfied, skipping upgrade: urllib3<1.25,>=1.21.1 in /usr/local/lib/python3.6/dist-packages (from kaggle) (1.24.3)\n",
            "Requirement already satisfied, skipping upgrade: requests in /usr/local/lib/python3.6/dist-packages (from kaggle) (2.21.0)\n",
            "Requirement already satisfied, skipping upgrade: six>=1.10 in /usr/local/lib/python3.6/dist-packages (from kaggle) (1.12.0)\n",
            "Requirement already satisfied, skipping upgrade: python-slugify in /usr/local/lib/python3.6/dist-packages (from kaggle) (4.0.0)\n",
            "Requirement already satisfied, skipping upgrade: python-dateutil in /usr/local/lib/python3.6/dist-packages (from kaggle) (2.6.1)\n",
            "Requirement already satisfied, skipping upgrade: chardet<3.1.0,>=3.0.2 in /usr/local/lib/python3.6/dist-packages (from requests->kaggle) (3.0.4)\n",
            "Requirement already satisfied, skipping upgrade: idna<2.9,>=2.5 in /usr/local/lib/python3.6/dist-packages (from requests->kaggle) (2.8)\n",
            "Requirement already satisfied, skipping upgrade: text-unidecode>=1.3 in /usr/local/lib/python3.6/dist-packages (from python-slugify->kaggle) (1.3)\n"
          ],
          "name": "stdout"
        }
      ]
    },
    {
      "cell_type": "markdown",
      "metadata": {
        "colab_type": "text",
        "id": "hMY4CFezjcG-"
      },
      "source": [
        "# Authenticating with Kaggle using kaggle.json\n",
        "\n",
        "1. Navigate to https://www.kaggle.com. \n",
        "2. Then go to the [Account tab of your user profile](https://www.kaggle.com/me/account) \n",
        "3. Select `Create API Token`. This will trigger the download of `kaggle.json`, a file containing your API credentials. If you open it, it'll look something like this: `{“username”:”YOUR-USER-NAME”,”key”:”SOMETHING-VERY-LONG”}`\n",
        "\n",
        "Then run the cell below to upload kaggle.json to your Colab runtime."
      ]
    },
    {
      "cell_type": "code",
      "metadata": {
        "colab_type": "code",
        "id": "0HtGf0HEXEa5",
        "colab": {
          "resources": {
            "http://localhost:8080/nbextensions/google.colab/files.js": {
              "data": "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",
              "ok": true,
              "headers": [
                [
                  "content-type",
                  "application/javascript"
                ]
              ],
              "status": 200,
              "status_text": ""
            }
          },
          "base_uri": "https://localhost:8080/",
          "height": 88
        },
        "outputId": "3164e71c-6563-481a-eb84-68dae62a1112"
      },
      "source": [
        "from google.colab import files\n",
        "\n",
        "uploaded = files.upload()\n",
        "\n",
        "for fn in uploaded.keys():\n",
        "  print(f'User uploaded file \"{fn}\" with length {len(uploaded[fn])} bytes')\n",
        "  \n",
        "# Then move kaggle.json into the folder where the API expects to find it.\n",
        "!mkdir -p ~/.kaggle/ && mv kaggle.json ~/.kaggle/ && chmod 600 ~/.kaggle/kaggle.json"
      ],
      "execution_count": 3,
      "outputs": [
        {
          "output_type": "display_data",
          "data": {
            "text/html": [
              "\n",
              "     <input type=\"file\" id=\"files-06926827-a692-4d74-9743-62c9db34fbc7\" name=\"files[]\" multiple disabled />\n",
              "     <output id=\"result-06926827-a692-4d74-9743-62c9db34fbc7\">\n",
              "      Upload widget is only available when the cell has been executed in the\n",
              "      current browser session. Please rerun this cell to enable.\n",
              "      </output>\n",
              "      <script src=\"/nbextensions/google.colab/files.js\"></script> "
            ],
            "text/plain": [
              "<IPython.core.display.HTML object>"
            ]
          },
          "metadata": {
            "tags": []
          }
        },
        {
          "output_type": "stream",
          "text": [
            "Saving kaggle.json to kaggle.json\n",
            "User uploaded file \"kaggle.json\" with length 73 bytes\n"
          ],
          "name": "stdout"
        }
      ]
    },
    {
      "cell_type": "markdown",
      "metadata": {
        "colab_type": "text",
        "id": "HMk7Zz4ZkpCe"
      },
      "source": [
        "# Using the Kaggle API\n",
        "\n",
        "For a more complete list of what you can do with the API, visit https://github.com/Kaggle/kaggle-api."
      ]
    },
    {
      "cell_type": "markdown",
      "metadata": {
        "colab_type": "text",
        "id": "SHVqmMXfilWG"
      },
      "source": [
        "## Listing competitions"
      ]
    },
    {
      "cell_type": "markdown",
      "metadata": {
        "colab_type": "text",
        "id": "JNiYmEaCBYKL"
      },
      "source": [
        "```\n",
        "usage: kaggle competitions list [-h] [--group GROUP] [--category CATEGORY] [--sort-by SORT_BY] [-p PAGE] [-s SEARCH] [-v]\n",
        "\n",
        "optional arguments:\n",
        "  -h, --help            show this help message and exit\n",
        "  --group GROUP         Search for competitions in a specific group. Default is 'general'. Valid options are 'general', 'entered', and 'inClass'\n",
        "  --category CATEGORY   Search for competitions of a specific category. Default is 'all'. Valid options are 'all', 'featured', 'research', 'recruitment', 'gettingStarted', 'masters', and 'playground'\n",
        "  --sort-by SORT_BY     Sort list results. Default is 'latestDeadline'. Valid options are 'grouped', 'prize', 'earliestDeadline', 'latestDeadline', 'numberOfTeams', and 'recentlyCreated'\n",
        "  -p PAGE, --page PAGE  Page number for results paging. Page size is 20 by default \n",
        "  -s SEARCH, --search SEARCH\n",
        "                        Term(s) to search for\n",
        "  -v, --csv             Print results in CSV format\n",
        "                        (if not set print in table format)\n",
        "\n",
        "```"
      ]
    },
    {
      "cell_type": "code",
      "metadata": {
        "colab_type": "code",
        "id": "Oqt7Yfi5aQuM",
        "outputId": "c9b1c988-61be-4ef5-928a-9be00c387e6e",
        "colab": {
          "base_uri": "https://localhost:8080/",
          "height": 408
        }
      },
      "source": [
        "!kaggle competitions list"
      ],
      "execution_count": 4,
      "outputs": [
        {
          "output_type": "stream",
          "text": [
            "Warning: Looks like you're using an outdated API Version, please consider updating (server 1.5.6 / client 1.5.4)\n",
            "ref                                                                deadline             category             reward  teamCount  userHasEntered  \n",
            "-----------------------------------------------------------------  -------------------  ---------------  ----------  ---------  --------------  \n",
            "digit-recognizer                                                   2030-01-01 00:00:00  Getting Started   Knowledge       2292           False  \n",
            "titanic                                                            2030-01-01 00:00:00  Getting Started   Knowledge      16417            True  \n",
            "house-prices-advanced-regression-techniques                        2030-01-01 00:00:00  Getting Started   Knowledge       4610           False  \n",
            "connectx                                                           2030-01-01 00:00:00  Getting Started   Knowledge        413           False  \n",
            "competitive-data-science-predict-future-sales                      2020-12-31 23:59:00  Playground            Kudos       5886           False  \n",
            "m5-forecasting-accuracy                                            2020-06-30 23:59:00  Featured            $50,000        330           False  \n",
            "m5-forecasting-uncertainty                                         2020-06-30 23:59:00  Featured            $50,000          0           False  \n",
            "abstraction-and-reasoning-challenge                                2020-05-27 23:59:00  Research            $20,000        340           False  \n",
            "liverpool-ion-switching                                            2020-05-25 23:59:00  Research            $25,000        654           False  \n",
            "flower-classification-with-tpus                                    2020-05-11 23:59:00  Playground           Prizes        296           False  \n",
            "march-madness-analytics-2020                                       2020-04-06 23:59:00  Analytics           $25,000          0           False  \n",
            "deepfake-detection-challenge                                       2020-03-31 23:59:00  Featured         $1,000,000       2033           False  \n",
            "cat-in-the-dat-ii                                                  2020-03-31 23:59:00  Playground             Swag        829           False  \n",
            "imagenet-object-localization-challenge                             2020-03-26 23:59:00  Research          Knowledge         67           False  \n",
            "ds4g-environmental-insights-explorer                               2020-03-24 23:59:00  Analytics           $25,000          0           False  \n",
            "nlp-getting-started                                                2020-03-23 23:59:00  Getting Started     $10,000       3322           False  \n",
            "google-cloud-ncaa-march-madness-2020-division-1-womens-tournament  2020-03-20 15:00:00  Featured            $25,000        317           False  \n",
            "google-cloud-ncaa-march-madness-2020-division-1-mens-tournament    2020-03-19 15:00:00  Featured            $25,000        602           False  \n",
            "bengaliai-cv19                                                     2020-03-16 23:59:00  Research            $10,000       1867           False  \n",
            "google-quest-challenge                                             2020-02-10 23:59:00  Featured            $25,000       1571           False  \n"
          ],
          "name": "stdout"
        }
      ]
    },
    {
      "cell_type": "code",
      "metadata": {
        "colab_type": "code",
        "id": "s1x6Y9R8nyrP",
        "colab": {}
      },
      "source": [
        "!kaggle competitions list -s titanic"
      ],
      "execution_count": 0,
      "outputs": []
    },
    {
      "cell_type": "markdown",
      "metadata": {
        "colab_type": "text",
        "id": "dNke00r6ig3h"
      },
      "source": [
        "## Downloading a dataset"
      ]
    },
    {
      "cell_type": "markdown",
      "metadata": {
        "colab_type": "text",
        "id": "aeK_n-ClBmUn"
      },
      "source": [
        "```\n",
        "usage: kaggle competitions download [-h] [-f FILE_NAME] [-p PATH] [-w] [-o]\n",
        "                                    [-q]\n",
        "                                    [competition]\n",
        "\n",
        "optional arguments:\n",
        "  -h, --help            show this help message and exit\n",
        "  competition           Competition URL suffix (use \"kaggle competitions list\" to show options)\n",
        "                        If empty, the default competition will be used (use \"kaggle config set competition\")\"\n",
        "  -f FILE_NAME, --file FILE_NAME\n",
        "                        File name, all files downloaded if not provided\n",
        "                        (use \"kaggle competitions files -c <competition>\" to show options)\n",
        "  -p PATH, --path PATH  Folder where file(s) will be downloaded, defaults to current working directory\n",
        "  -w, --wp              Download files to current working path\n",
        "  -o, --force           Skip check whether local version of file is up to date, force file download\n",
        "  -q, --quiet           Suppress printing information about the upload/download progress\n",
        "```"
      ]
    },
    {
      "cell_type": "markdown",
      "metadata": {
        "colab_type": "text",
        "id": "uo7qb9dK3Vdf"
      },
      "source": [
        "> Note: you will need to accept competition rules at https://www.kaggle.com/c/ml-challenge-week6/rules"
      ]
    },
    {
      "cell_type": "code",
      "metadata": {
        "colab_type": "code",
        "id": "Aojvqv8Gaf8I",
        "outputId": "ff180fdc-6513-48e1-9297-c53c41985a38",
        "colab": {
          "base_uri": "https://localhost:8080/",
          "height": 238
        }
      },
      "source": [
        "!kaggle competitions download -c ml-challenge-week6"
      ],
      "execution_count": 5,
      "outputs": [
        {
          "output_type": "stream",
          "text": [
            "Warning: Looks like you're using an outdated API Version, please consider updating (server 1.5.6 / client 1.5.4)\n",
            "Downloading census-income.test.zip to /content\n",
            "  0% 0.00/3.24M [00:00<?, ?B/s]\n",
            "100% 3.24M/3.24M [00:00<00:00, 108MB/s]\n",
            "Downloading census-income.data.zip to /content\n",
            " 70% 5.00M/7.14M [00:00<00:00, 29.8MB/s]\n",
            "100% 7.14M/7.14M [00:00<00:00, 34.9MB/s]\n",
            "Downloading sampleSubmission.csv to /content\n",
            "  0% 0.00/769k [00:00<?, ?B/s]\n",
            "100% 769k/769k [00:00<00:00, 187MB/s]\n",
            "Downloading census-income.names to /content\n",
            "  0% 0.00/14.5k [00:00<?, ?B/s]\n",
            "100% 14.5k/14.5k [00:00<00:00, 16.8MB/s]\n"
          ],
          "name": "stdout"
        }
      ]
    },
    {
      "cell_type": "code",
      "metadata": {
        "colab_type": "code",
        "id": "AHpz7TwB5Evl",
        "outputId": "b56d303e-7b9b-4e12-a17f-d75e165b67f8",
        "colab": {
          "base_uri": "https://localhost:8080/",
          "height": 51
        }
      },
      "source": [
        "!unzip census-income.data.zip"
      ],
      "execution_count": 6,
      "outputs": [
        {
          "output_type": "stream",
          "text": [
            "Archive:  census-income.data.zip\n",
            "  inflating: census-income.data      \n"
          ],
          "name": "stdout"
        }
      ]
    },
    {
      "cell_type": "code",
      "metadata": {
        "colab_type": "code",
        "id": "wxs-KvIA5vhI",
        "outputId": "db486e91-b0ef-4e8e-e323-e8a72c41830a",
        "colab": {
          "base_uri": "https://localhost:8080/",
          "height": 816
        }
      },
      "source": [
        "import pandas as pd \n",
        "\n",
        "train_df = pd.read_csv('census-income.data', header=None)\n",
        "train_df.info()"
      ],
      "execution_count": 7,
      "outputs": [
        {
          "output_type": "stream",
          "text": [
            "<class 'pandas.core.frame.DataFrame'>\n",
            "RangeIndex: 199523 entries, 0 to 199522\n",
            "Data columns (total 42 columns):\n",
            "0     199523 non-null int64\n",
            "1     199523 non-null object\n",
            "2     199523 non-null int64\n",
            "3     199523 non-null int64\n",
            "4     199523 non-null object\n",
            "5     199523 non-null int64\n",
            "6     199523 non-null object\n",
            "7     199523 non-null object\n",
            "8     199523 non-null object\n",
            "9     199523 non-null object\n",
            "10    199523 non-null object\n",
            "11    199523 non-null object\n",
            "12    199523 non-null object\n",
            "13    199523 non-null object\n",
            "14    199523 non-null object\n",
            "15    199523 non-null object\n",
            "16    199523 non-null int64\n",
            "17    199523 non-null int64\n",
            "18    199523 non-null int64\n",
            "19    199523 non-null object\n",
            "20    199523 non-null object\n",
            "21    199523 non-null object\n",
            "22    199523 non-null object\n",
            "23    199523 non-null object\n",
            "24    199523 non-null float64\n",
            "25    199523 non-null object\n",
            "26    199523 non-null object\n",
            "27    199523 non-null object\n",
            "28    199523 non-null object\n",
            "29    199523 non-null object\n",
            "30    199523 non-null int64\n",
            "31    199523 non-null object\n",
            "32    199523 non-null object\n",
            "33    199523 non-null object\n",
            "34    199523 non-null object\n",
            "35    199523 non-null object\n",
            "36    199523 non-null int64\n",
            "37    199523 non-null object\n",
            "38    199523 non-null int64\n",
            "39    199523 non-null int64\n",
            "40    199523 non-null int64\n",
            "41    199523 non-null object\n",
            "dtypes: float64(1), int64(12), object(29)\n",
            "memory usage: 63.9+ MB\n"
          ],
          "name": "stdout"
        }
      ]
    },
    {
      "cell_type": "markdown",
      "metadata": {
        "colab_type": "text",
        "id": "L_86P4tv4K2h"
      },
      "source": [
        "## Making a submission"
      ]
    },
    {
      "cell_type": "code",
      "metadata": {
        "colab_type": "code",
        "id": "gCme0MVW7DiD",
        "colab": {}
      },
      "source": [
        "import numpy as np\n",
        "\n",
        "submission_df = pd.read_csv('sampleSubmission.csv')\n",
        "submission_df['income class'] = np.random.randint(0, 2, submission_df.shape[0])\n",
        "submission_df['income class'].head()"
      ],
      "execution_count": 0,
      "outputs": []
    },
    {
      "cell_type": "code",
      "metadata": {
        "colab_type": "code",
        "id": "R4cUd6VT94VJ",
        "colab": {}
      },
      "source": [
        "submission_df.to_csv('submission.csv')"
      ],
      "execution_count": 0,
      "outputs": []
    },
    {
      "cell_type": "markdown",
      "metadata": {
        "colab_type": "text",
        "id": "fVYsZv1SBzGQ"
      },
      "source": [
        "```\n",
        "usage: kaggle competitions submit [-h] -f FILE_NAME -m MESSAGE [-q]\n",
        "                                  [competition]\n",
        "\n",
        "required arguments:\n",
        "  -f FILE_NAME, --file FILE_NAME\n",
        "                        File for upload (full path)\n",
        "  -m MESSAGE, --message MESSAGE\n",
        "                        Message describing this submission\n",
        "\n",
        "optional arguments:\n",
        "  -h, --help            show this help message and exit\n",
        "  competition           Competition URL suffix (use \"kaggle competitions list\" to show options)\n",
        "                        If empty, the default competition will be used (use \"kaggle config set competition\")\"\n",
        "  -q, --quiet           Suppress printing information about the upload/download progress\n",
        "```"
      ]
    },
    {
      "cell_type": "code",
      "metadata": {
        "colab_type": "code",
        "id": "ajUqJKv24Qqu",
        "colab": {}
      },
      "source": [
        "!kaggle competitions submit -c ml-challenge-week6 -f submission.csv -m \"Test\""
      ],
      "execution_count": 0,
      "outputs": []
    },
    {
      "cell_type": "markdown",
      "metadata": {
        "colab_type": "text",
        "id": "CgdvQI_qCDGY"
      },
      "source": [
        "## List competition submissions"
      ]
    },
    {
      "cell_type": "markdown",
      "metadata": {
        "colab_type": "text",
        "id": "DI606jnHCfPS"
      },
      "source": [
        "```\n",
        "usage: kaggle competitions submissions [-h] [-v] [-q] [competition]\n",
        "\n",
        "optional arguments:\n",
        "  -h, --help   show this help message and exit\n",
        "  competition  Competition URL suffix (use \"kaggle competitions list\" to show options)\n",
        "               If empty, the default competition will be used (use \"kaggle config set competition\")\"\n",
        "  -v, --csv    Print results in CSV format (if not set print in table format)\n",
        "  -q, --quiet  Suppress printing information about the upload/download progress\n",
        "```"
      ]
    },
    {
      "cell_type": "code",
      "metadata": {
        "colab_type": "code",
        "id": "ujdSqDtCCRAF",
        "colab": {}
      },
      "source": [
        "!kaggle competitions submissions ml-challenge-week6"
      ],
      "execution_count": 0,
      "outputs": []
    },
    {
      "cell_type": "markdown",
      "metadata": {
        "colab_type": "text",
        "id": "h0pLaPQZCjE0"
      },
      "source": [
        "## Get competition leaderboard"
      ]
    },
    {
      "cell_type": "markdown",
      "metadata": {
        "colab_type": "text",
        "id": "clfm4GWoCocy"
      },
      "source": [
        "```\n",
        "usage: kaggle competitions leaderboard [-h] [-s] [-d] [-p PATH] [-v] [-q]\n",
        "                                       [competition]\n",
        "\n",
        "optional arguments:\n",
        "  -h, --help            show this help message and exit\n",
        "  competition           Competition URL suffix (use \"kaggle competitions list\" to show options)\n",
        "                        If empty, the default competition will be used (use \"kaggle config set competition\")\"\n",
        "  -s, --show            Show the top of the leaderboard\n",
        "  -d, --download        Download entire leaderboard\n",
        "  -p PATH, --path PATH  Folder where file(s) will be downloaded, defaults to current working directory\n",
        "  -v, --csv             Print results in CSV format (if not set print in table format)\n",
        "  -q, --quiet           Suppress printing information about the upload/download progress\n",
        "```"
      ]
    },
    {
      "cell_type": "code",
      "metadata": {
        "colab_type": "code",
        "id": "zAH0lJOGCtHC",
        "colab": {}
      },
      "source": [
        "!kaggle competitions leaderboard ml-challenge-week6 -s"
      ],
      "execution_count": 0,
      "outputs": []
    },
    {
      "cell_type": "markdown",
      "metadata": {
        "colab_type": "text",
        "id": "SxdB6P_ulkfa",
        "toc-hr-collapsed": false
      },
      "source": [
        "## Uploading a Colab notebook to Kaggle Kernels"
      ]
    },
    {
      "cell_type": "markdown",
      "metadata": {
        "colab_type": "text",
        "id": "o-NDs2dImDG0"
      },
      "source": [
        "### Downloading a notebook from Colab\n",
        "\n",
        "To download from Colab, use **File** | **Download .ipynb**"
      ]
    },
    {
      "cell_type": "markdown",
      "metadata": {
        "colab_type": "text",
        "id": "zUMAuin2mbbW"
      },
      "source": [
        "### Then upload the notebook to your Colab runtime"
      ]
    },
    {
      "cell_type": "code",
      "metadata": {
        "colab_type": "code",
        "id": "qox_MozfmF2Y",
        "colab": {}
      },
      "source": [
        "uploaded = files.upload()\n",
        "notebook_path = list(uploaded.keys())[0]"
      ],
      "execution_count": 0,
      "outputs": []
    },
    {
      "cell_type": "code",
      "metadata": {
        "colab_type": "code",
        "id": "7BT_rPcuoMsd",
        "colab": {}
      },
      "source": [
        "!mkdir -p export\n",
        "!mv \"$notebook_path\" export/"
      ],
      "execution_count": 0,
      "outputs": []
    },
    {
      "cell_type": "markdown",
      "metadata": {
        "colab_type": "text",
        "id": "Kgr50t9CFNTY"
      },
      "source": [
        "### Initialize metadata file for a kernel\n",
        "\n",
        "```\n",
        "usage: kaggle kernels init [-h] [-p FOLDER]\n",
        "\n",
        "optional arguments:\n",
        "  -h, --help            show this help message and exit\n",
        "  -p FOLDER, --path FOLDER\n",
        "                        Folder for upload, containing data files and a special kernel-metadata.json file       \n",
        "                        (https://github.com/Kaggle/kaggle-api/wiki/Kernel-Metadata). \n",
        "                        Defaults to current working directory\n",
        "```"
      ]
    },
    {
      "cell_type": "code",
      "metadata": {
        "colab_type": "code",
        "id": "J1gMt15SFRQh",
        "colab": {}
      },
      "source": [
        "!kaggle kernels init -p export"
      ],
      "execution_count": 0,
      "outputs": []
    },
    {
      "cell_type": "code",
      "metadata": {
        "colab_type": "code",
        "id": "Ls0Umf85q9UE",
        "colab": {}
      },
      "source": [
        "import re\n",
        "your_kaggle_username = 'Your kaggle username'\n",
        "notebook_title = 'New Kernel'\n",
        "new_kernel_slug = re.sub(r'[^a-z0-9]+', '-', notebook_title.lower())\n",
        "notebook_path = 'export'\n",
        "metadata_file = 'export/kernel-metadata.json'"
      ],
      "execution_count": 0,
      "outputs": []
    },
    {
      "cell_type": "code",
      "metadata": {
        "colab_type": "code",
        "id": "hcPAUJknG1kj",
        "colab": {}
      },
      "source": [
        "import json\n",
        "\n",
        "with open(metadata_file) as json_file:\n",
        "    metadata = json.load(json_file)\n",
        "\n",
        "metadata['code_file'] = notebook_path\n",
        "metadata['kernel_type'] = 'notebook'\n",
        "metadata['language'] = 'python'\n",
        "metadata['id'] = f'{your_kaggle_username}/{new_kernel_slug}'\n",
        "metadata['title'] = notebook_title\n",
        "\n",
        "with open(metadata_file, 'w') as outfile:\n",
        "    json.dump(metadata, outfile, indent=4)"
      ],
      "execution_count": 0,
      "outputs": []
    },
    {
      "cell_type": "code",
      "metadata": {
        "colab_type": "code",
        "id": "PyX-cbzIoj-V",
        "colab": {}
      },
      "source": [
        "!cat export/kernel-metadata.json"
      ],
      "execution_count": 0,
      "outputs": []
    },
    {
      "cell_type": "markdown",
      "metadata": {
        "colab_type": "text",
        "id": "_PK5ql93DS1y"
      },
      "source": [
        "```\n",
        "usage: kaggle kernels push [-h] -p FOLDER\n",
        "\n",
        "optional arguments:\n",
        "  -h, --help            show this help message and exit\n",
        "  -p FOLDER, --path FOLDER\n",
        "                        Folder for upload, containing data files and a special kernel-metadata.json file \n",
        "                        (https://github.com/Kaggle/kaggle-api/wiki/Kernel-Metadata). \n",
        "                        Defaults to current working directory\n",
        "```"
      ]
    },
    {
      "cell_type": "code",
      "metadata": {
        "colab_type": "code",
        "id": "VDP5xJPklqYk",
        "colab": {}
      },
      "source": [
        "!kaggle kernels push -p export"
      ],
      "execution_count": 0,
      "outputs": []
    }
  ]
}