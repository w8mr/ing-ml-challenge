{
"cells": [
{
"cell_type": "markdown",
"metadata": {
"colab_type": "text",
"id": "DIf2PtekjPtY"
},
"source": [
"# Installing the [Kaggle API](https://github.com/Kaggle/kaggle-api) in Colab"
]
},
{
"cell_type": "markdown",
"metadata": {
"colab_type": "text",
"id": "_JgSgxmM1NGx"
},
"source": [
"`kaggle` module should already be installed on Google Colab"
]
},
{
"cell_type": "code",
"execution_count": null,
"metadata": {
"colab": {
"base_uri": "https://localhost:8080/",
"height": 224
},
"colab_type": "code",
"id": "OppyMnCuWjzJ",
"outputId": "a0d379a3-783c-4e75-b392-db1da3b20b9d"
},
"outputs": [],
"source": [
"!pip install kaggle --upgrade"
]
},
{
"cell_type": "markdown",
"metadata": {
"colab_type": "text",
"id": "hMY4CFezjcG-"
},
"source": [
"# Authenticating with Kaggle using kaggle.json\n",
"\n",
"1. Navigate to https://www.kaggle.com. \n",
"2. Then go to the [Account tab of your user profile](https://www.kaggle.com/me/account) \n",
"3. Select `Create API Token`. This will trigger the download of `kaggle.json`, a file containing your API credentials. If you open it, it'll look something like this: `{“username”:”YOUR-USER-NAME”,”key”:”SOMETHING-VERY-LONG”}`\n",
"\n",
"Then run the cell below to upload kaggle.json to your Colab runtime."
]
},
{
"cell_type": "code",
"execution_count": null,
"metadata": {
"colab": {},
"colab_type": "code",
"id": "0HtGf0HEXEa5"
},
"outputs": [],
"source": [
"from google.colab import files\n",
"\n",
"uploaded = files.upload()\n",
"\n",
"for fn in uploaded.keys():\n",
"  print(f'User uploaded file \"{fn}\" with length {len(uploaded[fn])} bytes')\n",
"  \n",
"# Then move kaggle.json into the folder where the API expects to find it.\n",
"!mkdir -p ~/.kaggle/ && mv kaggle.json ~/.kaggle/ && chmod 600 ~/.kaggle/kaggle.json"
]
},
{
"cell_type": "markdown",
"metadata": {
"colab_type": "text",
"id": "HMk7Zz4ZkpCe"
},
"source": [
"# Using the Kaggle API\n",
"\n",
"For a more complete list of what you can do with the API, visit https://github.com/Kaggle/kaggle-api."
]
},
{
"cell_type": "markdown",
"metadata": {
"colab_type": "text",
"id": "SHVqmMXfilWG"
},
"source": [
"## Listing competitions"
]
},
{
"cell_type": "markdown",
"metadata": {
"colab_type": "text",
"id": "JNiYmEaCBYKL"
},
"source": [
"```\n",
"usage: kaggle competitions list [-h] [--group GROUP] [--category CATEGORY] [--sort-by SORT_BY] [-p PAGE] [-s SEARCH] [-v]\n",
"\n",
"optional arguments:\n",
"  -h, --help            show this help message and exit\n",
"  --group GROUP         Search for competitions in a specific group. Default is 'general'. Valid options are 'general', 'entered', and 'inClass'\n",
"  --category CATEGORY   Search for competitions of a specific category. Default is 'all'. Valid options are 'all', 'featured', 'research', 'recruitment', 'gettingStarted', 'masters', and 'playground'\n",
"  --sort-by SORT_BY     Sort list results. Default is 'latestDeadline'. Valid options are 'grouped', 'prize', 'earliestDeadline', 'latestDeadline', 'numberOfTeams', and 'recentlyCreated'\n",
"  -p PAGE, --page PAGE  Page number for results paging. Page size is 20 by default \n",
"  -s SEARCH, --search SEARCH\n",
"                        Term(s) to search for\n",
"  -v, --csv             Print results in CSV format\n",
"                        (if not set print in table format)\n",
"\n",
"```"
]
},
{
"cell_type": "code",
"execution_count": null,
"metadata": {
"colab": {
"base_uri": "https://localhost:8080/",
"height": 428
},
"colab_type": "code",
"id": "Oqt7Yfi5aQuM",
"outputId": "9538f3ab-3d0e-4710-f9d4-9d240113078f"
},
"outputs": [],
"source": [
"!kaggle competitions list"
]
},
{
"cell_type": "code",
"execution_count": null,
"metadata": {
"colab": {
"base_uri": "https://localhost:8080/",
"height": 85
},
"colab_type": "code",
"id": "s1x6Y9R8nyrP",
"outputId": "a3a85884-8033-44d9-fbb8-dea3e0fcba1d"
},
"outputs": [],
"source": [
"!kaggle competitions list -s titanic"
]
},
{
"cell_type": "markdown",
"metadata": {
"colab_type": "text",
"id": "dNke00r6ig3h"
},
"source": [
"## Downloading a dataset"
]
},
{
"cell_type": "markdown",
"metadata": {
"colab_type": "text",
"id": "aeK_n-ClBmUn"
},
"source": [
"```\n",
"usage: kaggle competitions download [-h] [-f FILE_NAME] [-p PATH] [-w] [-o]\n",
"                                    [-q]\n",
"                                    [competition]\n",
"\n",
"optional arguments:\n",
"  -h, --help            show this help message and exit\n",
"  competition           Competition URL suffix (use \"kaggle competitions list\" to show options)\n",
"                        If empty, the default competition will be used (use \"kaggle config set competition\")\"\n",
"  -f FILE_NAME, --file FILE_NAME\n",
"                        File name, all files downloaded if not provided\n",
"                        (use \"kaggle competitions files -c <competition>\" to show options)\n",
"  -p PATH, --path PATH  Folder where file(s) will be downloaded, defaults to current working directory\n",
"  -w, --wp              Download files to current working path\n",
"  -o, --force           Skip check whether local version of file is up to date, force file download\n",
"  -q, --quiet           Suppress printing information about the upload/download progress\n",
"```"
]
},
{
"cell_type": "markdown",
"metadata": {
"colab_type": "text",
"id": "uo7qb9dK3Vdf"
},
"source": [
"> Note: you will need to accept competition rules at https://www.kaggle.com/c/ml-challenge-week6/rules"
]
},
{
"cell_type": "code",
"execution_count": null,
"metadata": {
"colab": {
"base_uri": "https://localhost:8080/",
"height": 187
},
"colab_type": "code",
"id": "Aojvqv8Gaf8I",
"outputId": "71792081-e863-4b6a-891a-7b282dc36afd"
},
"outputs": [],
"source": [
"!kaggle competitions download -c ml-challenge-week6"
]
},
{
"cell_type": "code",
"execution_count": null,
"metadata": {
"colab": {
"base_uri": "https://localhost:8080/",
"height": 51
},
"colab_type": "code",
"id": "AHpz7TwB5Evl",
"outputId": "ec9eed4b-45d2-4d6d-dea1-20eea573e66d"
},
"outputs": [],
"source": [
"!unzip census-income.data.zip"
]
},
{
"cell_type": "code",
"execution_count": null,
"metadata": {
"colab": {
"base_uri": "https://localhost:8080/",
"height": 816
},
"colab_type": "code",
"id": "wxs-KvIA5vhI",
"outputId": "ea8f2146-299c-4573-d3f0-35964607da80"
},
"outputs": [],
"source": [
"import pandas as pd \n",
"\n",
"train_df = pd.read_csv('census-income.data', header=None)\n",
"train_df.info()"
]
},
{
"cell_type": "markdown",
"metadata": {
"colab_type": "text",
"id": "L_86P4tv4K2h"
},
"source": [
"## Making a submission"
]
},
{
"cell_type": "code",
"execution_count": null,
"metadata": {
"colab": {
"base_uri": "https://localhost:8080/",
"height": 119
},
"colab_type": "code",
"id": "gCme0MVW7DiD",
"outputId": "72939444-e066-4693-ca8d-7ee03c62ae8c"
},
"outputs": [],
"source": [
"import numpy as np\n",
"\n",
"submission_df = pd.read_csv('sampleSubmission.csv')\n",
"submission_df['income class'] = np.random.randint(0, 2, submission_df.shape[0])\n",
"submission_df['income class'].head()"
]
},
{
"cell_type": "code",
"execution_count": null,
"metadata": {
"colab": {},
"colab_type": "code",
"id": "R4cUd6VT94VJ"
},
"outputs": [],
"source": [
"submission_df.to_csv('submission.csv')"
]
},
{
"cell_type": "markdown",
"metadata": {
"colab_type": "text",
"id": "fVYsZv1SBzGQ"
},
"source": [
"```\n",
"usage: kaggle competitions submit [-h] -f FILE_NAME -m MESSAGE [-q]\n",
"                                  [competition]\n",
"\n",
"required arguments:\n",
"  -f FILE_NAME, --file FILE_NAME\n",
"                        File for upload (full path)\n",
"  -m MESSAGE, --message MESSAGE\n",
"                        Message describing this submission\n",
"\n",
"optional arguments:\n",
"  -h, --help            show this help message and exit\n",
"  competition           Competition URL suffix (use \"kaggle competitions list\" to show options)\n",
"                        If empty, the default competition will be used (use \"kaggle config set competition\")\"\n",
"  -q, --quiet           Suppress printing information about the upload/download progress\n",
"```"
]
},
{
"cell_type": "code",
"execution_count": null,
"metadata": {
"colab": {
"base_uri": "https://localhost:8080/",
"height": 88
},
"colab_type": "code",
"id": "ajUqJKv24Qqu",
"outputId": "493bc98d-6f8f-4c6e-e606-9db2c18fdd35"
},
"outputs": [],
"source": [
"!kaggle competitions submit -c ml-challenge-week6 -f submission.csv -m \"Test\""
]
},
{
"cell_type": "markdown",
"metadata": {
"colab_type": "text",
"id": "CgdvQI_qCDGY"
},
"source": [
"## List competition submissions"
]
},
{
"cell_type": "markdown",
"metadata": {
"colab_type": "text",
"id": "DI606jnHCfPS"
},
"source": [
"```\n",
"usage: kaggle competitions submissions [-h] [-v] [-q] [competition]\n",
"\n",
"optional arguments:\n",
"  -h, --help   show this help message and exit\n",
"  competition  Competition URL suffix (use \"kaggle competitions list\" to show options)\n",
"               If empty, the default competition will be used (use \"kaggle config set competition\")\"\n",
"  -v, --csv    Print results in CSV format (if not set print in table format)\n",
"  -q, --quiet  Suppress printing information about the upload/download progress\n",
"```"
]
},
{
"cell_type": "code",
"execution_count": null,
"metadata": {
"colab": {
"base_uri": "https://localhost:8080/",
"height": 51
},
"colab_type": "code",
"id": "ujdSqDtCCRAF",
"outputId": "2807fd1c-b541-4515-c6b6-6d8d722117fa"
},
"outputs": [],
"source": [
"!kaggle competitions submissions ml-challenge-week6"
]
},
{
"cell_type": "markdown",
"metadata": {
"colab_type": "text",
"id": "h0pLaPQZCjE0"
},
"source": [
"## Get competition leaderboard"
]
},
{
"cell_type": "markdown",
"metadata": {
"colab_type": "text",
"id": "clfm4GWoCocy"
},
"source": [
"```\n",
"usage: kaggle competitions leaderboard [-h] [-s] [-d] [-p PATH] [-v] [-q]\n",
"                                       [competition]\n",
"\n",
"optional arguments:\n",
"  -h, --help            show this help message and exit\n",
"  competition           Competition URL suffix (use \"kaggle competitions list\" to show options)\n",
"                        If empty, the default competition will be used (use \"kaggle config set competition\")\"\n",
"  -s, --show            Show the top of the leaderboard\n",
"  -d, --download        Download entire leaderboard\n",
"  -p PATH, --path PATH  Folder where file(s) will be downloaded, defaults to current working directory\n",
"  -v, --csv             Print results in CSV format (if not set print in table format)\n",
"  -q, --quiet           Suppress printing information about the upload/download progress\n",
"```"
]
},
{
"cell_type": "code",
"execution_count": null,
"metadata": {
"colab": {
"base_uri": "https://localhost:8080/",
"height": 136
},
"colab_type": "code",
"id": "zAH0lJOGCtHC",
"outputId": "278eb3ce-cc2b-4406-9ce0-b190f4b97bdc"
},
"outputs": [],
"source": [
"!kaggle competitions leaderboard ml-challenge-week6 -s"
]
},
{
"cell_type": "markdown",
"metadata": {
"colab_type": "text",
"id": "SxdB6P_ulkfa",
"toc-hr-collapsed": false
},
"source": [
"## Uploading a Colab notebook to Kaggle Kernels"
]
},
{
"cell_type": "markdown",
"metadata": {
"colab_type": "text",
"id": "o-NDs2dImDG0"
},
"source": [
"### Downloading a notebook from Colab\n",
"\n",
"To download from Colab, use **File** | **Download .ipynb**"
]
},
{
"cell_type": "markdown",
"metadata": {
"colab_type": "text",
"id": "zUMAuin2mbbW"
},
"source": [
"### Then upload the notebook to your Colab runtime"
]
},
{
"cell_type": "code",
"execution_count": null,
"metadata": {
"colab": {
"base_uri": "https://localhost:8080/",
"height": 71,
"resources": {
"http://localhost:8080/nbextensions/google.colab/files.js": {
"data": "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",
"headers": [
[
"content-type",
"application/javascript"
]
],
"ok": true,
"status": 200,
"status_text": ""
}
}
},
"colab_type": "code",
"id": "qox_MozfmF2Y",
"outputId": "065c7f66-587c-478c-babc-ea290b3a84d8"
},
"outputs": [],
"source": [
"uploaded = files.upload()\n",
"notebook_path = list(uploaded.keys())[0]"
]
},
{
"cell_type": "code",
"execution_count": null,
"metadata": {
"colab": {},
"colab_type": "code",
"id": "7BT_rPcuoMsd"
},
"outputs": [],
"source": [
"!mkdir -p export\n",
"!mv \"$notebook_path\" export/"
]
},
{
"cell_type": "markdown",
"metadata": {
"colab_type": "text",
"id": "Kgr50t9CFNTY"
},
"source": [
"### Initialize metadata file for a kernel\n",
"\n",
"```\n",
"usage: kaggle kernels init [-h] [-p FOLDER]\n",
"\n",
"optional arguments:\n",
"  -h, --help            show this help message and exit\n",
"  -p FOLDER, --path FOLDER\n",
"                        Folder for upload, containing data files and a special kernel-metadata.json file       \n",
"                        (https://github.com/Kaggle/kaggle-api/wiki/Kernel-Metadata). \n",
"                        Defaults to current working directory\n",
"```"
]
},
{
"cell_type": "code",
"execution_count": null,
"metadata": {
"colab": {
"base_uri": "https://localhost:8080/",
"height": 34
},
"colab_type": "code",
"id": "J1gMt15SFRQh",
"outputId": "6bb41292-0bac-45f6-9242-3d75bc1d44a2"
},
"outputs": [],
"source": [
"!kaggle kernels init -p export"
]
},
{
"cell_type": "code",
"execution_count": null,
"metadata": {
"colab": {},
"colab_type": "code",
"id": "Ls0Umf85q9UE"
},
"outputs": [],
"source": [
"import re\n",
"your_kaggle_username = 'Your kaggle username'\n",
"notebook_title = 'New Kernel'\n",
"new_kernel_slug = re.sub(r'[^a-z0-9]+', '-', notebook_title.lower())\n",
"notebook_path = 'export'\n",
"metadata_file = 'export/kernel-metadata.json'"
]
},
{
"cell_type": "code",
"execution_count": null,
"metadata": {
"colab": {},
"colab_type": "code",
"id": "hcPAUJknG1kj"
},
"outputs": [],
"source": [
"import json\n",
"\n",
"with open(metadata_file) as json_file:\n",
"    metadata = json.load(json_file)\n",
"\n",
"metadata['code_file'] = notebook_path\n",
"metadata['kernel_type'] = 'notebook'\n",
"metadata['language'] = 'python'\n",
"metadata['id'] = f'{your_kaggle_username}/{new_kernel_slug}'\n",
"metadata['title'] = notebook_title\n",
"\n",
"with open(metadata_file, 'w') as outfile:\n",
"    json.dump(metadata, outfile, indent=4)"
]
},
{
"cell_type": "code",
"execution_count": null,
"metadata": {
"colab": {
"base_uri": "https://localhost:8080/",
"height": 238
},
"colab_type": "code",
"id": "PyX-cbzIoj-V",
"outputId": "b9a92ea5-da06-4bed-b575-18010bdb5e76"
},
"outputs": [],
"source": [
"!cat export/kernel-metadata.json"
]
},
{
"cell_type": "markdown",
"metadata": {
"colab_type": "text",
"id": "_PK5ql93DS1y"
},
"source": [
"```\n",
"usage: kaggle kernels push [-h] -p FOLDER\n",
"\n",
"optional arguments:\n",
"  -h, --help            show this help message and exit\n",
"  -p FOLDER, --path FOLDER\n",
"                        Folder for upload, containing data files and a special kernel-metadata.json file \n",
"                        (https://github.com/Kaggle/kaggle-api/wiki/Kernel-Metadata). \n",
"                        Defaults to current working directory\n",
"```"
]
},
{
"cell_type": "code",
"execution_count": null,
"metadata": {
"colab": {},
"colab_type": "code",
"id": "VDP5xJPklqYk"
},
"outputs": [],
"source": [
"!kaggle kernels push -p export"
]
}
],
"metadata": {
"colab": {
"collapsed_sections": [],
"name": "How_To-Kaggle_API_Colab.ipynb",
"provenance": [],
"toc_visible": true
},
"kernelspec": {
"display_name": "Python 3",
"language": "python",
"name": "python3"
},
"language_info": {
"codemirror_mode": {
"name": "ipython",
"version": 3
},
"file_extension": ".py",
"mimetype": "text/x-python",
"name": "python",
"nbconvert_exporter": "python",
"pygments_lexer": "ipython3",
"version": "3.7.4"
}
},
"nbformat": 4,
"nbformat_minor": 4
}
