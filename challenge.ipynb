{
  "nbformat": 4,
  "nbformat_minor": 0,
  "metadata": {
    "colab": {
      "name": "How_To-Kaggle_API_Colab.ipynb",
      "provenance": [],
      "collapsed_sections": [],
      "toc_visible": true,
      "include_colab_link": true
    },
    "kernelspec": {
      "display_name": "Python 3",
      "language": "python",
      "name": "python3"
    },
    "language_info": {
      "codemirror_mode": {
        "name": "ipython",
        "version": 3
      },
      "file_extension": ".py",
      "mimetype": "text/x-python",
      "name": "python",
      "nbconvert_exporter": "python",
      "pygments_lexer": "ipython3",
      "version": "3.7.4"
    }
  },
  "cells": [
    {
      "cell_type": "markdown",
      "metadata": {
        "id": "view-in-github",
        "colab_type": "text"
      },
      "source": [
        "<a href=\"https://colab.research.google.com/github/w8mr/ing-ml-challenge/blob/master/challenge.ipynb\" target=\"_parent\"><img src=\"https://colab.research.google.com/assets/colab-badge.svg\" alt=\"Open In Colab\"/></a>"
      ]
    },
    {
      "cell_type": "markdown",
      "metadata": {
        "id": "XZz-4ozU3GHG",
        "colab_type": "text"
      },
      "source": [
        "# ING Machine learning challenge week 6 Income data"
      ]
    },
    {
      "cell_type": "markdown",
      "metadata": {
        "colab_type": "text",
        "id": "_JgSgxmM1NGx"
      },
      "source": [
        "## Setup kaggle, token and datasets\n",
        "\n",
        "Upgrade Kaggle"
      ]
    },
    {
      "cell_type": "code",
      "metadata": {
        "colab_type": "code",
        "id": "OppyMnCuWjzJ",
        "outputId": "cd053fb7-3707-4a25-cd91-c887f7c4b3a9",
        "colab": {
          "base_uri": "https://localhost:8080/",
          "height": 241
        }
      },
      "source": [
        "!pip install kaggle --upgrade\n",
        "!kaggle --version"
      ],
      "execution_count": 0,
      "outputs": [
        {
          "output_type": "stream",
          "text": [
            "Requirement already up-to-date: kaggle in /usr/local/lib/python3.6/dist-packages (1.5.6)\n",
            "Requirement already satisfied, skipping upgrade: certifi in /usr/local/lib/python3.6/dist-packages (from kaggle) (2019.11.28)\n",
            "Requirement already satisfied, skipping upgrade: urllib3<1.25,>=1.21.1 in /usr/local/lib/python3.6/dist-packages (from kaggle) (1.24.3)\n",
            "Requirement already satisfied, skipping upgrade: tqdm in /usr/local/lib/python3.6/dist-packages (from kaggle) (4.28.1)\n",
            "Requirement already satisfied, skipping upgrade: requests in /usr/local/lib/python3.6/dist-packages (from kaggle) (2.21.0)\n",
            "Requirement already satisfied, skipping upgrade: python-slugify in /usr/local/lib/python3.6/dist-packages (from kaggle) (4.0.0)\n",
            "Requirement already satisfied, skipping upgrade: python-dateutil in /usr/local/lib/python3.6/dist-packages (from kaggle) (2.6.1)\n",
            "Requirement already satisfied, skipping upgrade: six>=1.10 in /usr/local/lib/python3.6/dist-packages (from kaggle) (1.12.0)\n",
            "Requirement already satisfied, skipping upgrade: chardet<3.1.0,>=3.0.2 in /usr/local/lib/python3.6/dist-packages (from requests->kaggle) (3.0.4)\n",
            "Requirement already satisfied, skipping upgrade: idna<2.9,>=2.5 in /usr/local/lib/python3.6/dist-packages (from requests->kaggle) (2.8)\n",
            "Requirement already satisfied, skipping upgrade: text-unidecode>=1.3 in /usr/local/lib/python3.6/dist-packages (from python-slugify->kaggle) (1.3)\n",
            "Kaggle API 1.5.4\n"
          ],
          "name": "stdout"
        }
      ]
    },
    {
      "cell_type": "markdown",
      "metadata": {
        "colab_type": "text",
        "id": "hMY4CFezjcG-"
      },
      "source": [
        "Upload kaggle token\n"
      ]
    },
    {
      "cell_type": "code",
      "metadata": {
        "colab_type": "code",
        "id": "0HtGf0HEXEa5",
        "outputId": "60a1ee61-a133-4feb-93fd-f88c154f9caf",
        "colab": {
          "resources": {
            "http://localhost:8080/nbextensions/google.colab/files.js": {
              "data": "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",
              "ok": true,
              "headers": [
                [
                  "content-type",
                  "application/javascript"
                ]
              ],
              "status": 200,
              "status_text": ""
            }
          },
          "base_uri": "https://localhost:8080/",
          "height": 88
        }
      },
      "source": [
        "from google.colab import files\n",
        "\n",
        "uploaded = files.upload()\n",
        "\n",
        "for fn in uploaded.keys():\n",
        "  print(f'User uploaded file \"{fn}\" with length {len(uploaded[fn])} bytes')\n",
        "  \n",
        "# Then move kaggle.json into the folder where the API expects to find it.\n",
        "!mkdir -p ~/.kaggle/ && mv kaggle.json ~/.kaggle/ && chmod 600 ~/.kaggle/kaggle.json"
      ],
      "execution_count": 0,
      "outputs": [
        {
          "output_type": "display_data",
          "data": {
            "text/html": [
              "\n",
              "     <input type=\"file\" id=\"files-dbaa8284-d6c5-4a8e-86d7-4be7a00f88dc\" name=\"files[]\" multiple disabled />\n",
              "     <output id=\"result-dbaa8284-d6c5-4a8e-86d7-4be7a00f88dc\">\n",
              "      Upload widget is only available when the cell has been executed in the\n",
              "      current browser session. Please rerun this cell to enable.\n",
              "      </output>\n",
              "      <script src=\"/nbextensions/google.colab/files.js\"></script> "
            ],
            "text/plain": [
              "<IPython.core.display.HTML object>"
            ]
          },
          "metadata": {
            "tags": []
          }
        },
        {
          "output_type": "stream",
          "text": [
            "Saving kaggle.json to kaggle.json\n",
            "User uploaded file \"kaggle.json\" with length 73 bytes\n"
          ],
          "name": "stdout"
        }
      ]
    },
    {
      "cell_type": "markdown",
      "metadata": {
        "colab_type": "text",
        "id": "dNke00r6ig3h"
      },
      "source": [
        "Download and unzip the dataset"
      ]
    },
    {
      "cell_type": "code",
      "metadata": {
        "colab_type": "code",
        "id": "Aojvqv8Gaf8I",
        "outputId": "4b89e3e8-32d7-49e1-d199-6e973d35af0a",
        "colab": {
          "base_uri": "https://localhost:8080/",
          "height": 170
        }
      },
      "source": [
        "!kaggle competitions download -c ml-challenge-week6\n",
        "!unzip -o census-income.data.zip\n",
        "!unzip -o census-income.test.zip"
      ],
      "execution_count": 0,
      "outputs": [
        {
          "output_type": "stream",
          "text": [
            "Warning: Looks like you're using an outdated API Version, please consider updating (server 1.5.6 / client 1.5.4)\n",
            "sampleSubmission.csv: Skipping, found more recently modified local copy (use --force to force download)\n",
            "census-income.names: Skipping, found more recently modified local copy (use --force to force download)\n",
            "census-income.test.zip: Skipping, found more recently modified local copy (use --force to force download)\n",
            "census-income.data.zip: Skipping, found more recently modified local copy (use --force to force download)\n",
            "Archive:  census-income.data.zip\n",
            "  inflating: census-income.data      \n",
            "Archive:  census-income.test.zip\n",
            "  inflating: census-income.test      \n"
          ],
          "name": "stdout"
        }
      ]
    },
    {
      "cell_type": "code",
      "metadata": {
        "colab_type": "code",
        "id": "wxs-KvIA5vhI",
        "outputId": "2c53ac66-f937-4b61-a39a-26b421277665",
        "colab": {
          "base_uri": "https://localhost:8080/",
          "height": 1000
        }
      },
      "source": [
        "import pandas as pd \n",
        "\n",
        "# Column names found at https://www2.1010data.com/documentationcenter/beta/Tutorials/MachineLearningExamples/CensusIncomeDataSet.html manually adjusted\n",
        "header_list = [\"age\", \"class of worker\", \"industry code\", \"occupation code\", \n",
        "               #\"adjusted gross income\", \n",
        "               \"education\", \"wage per hour\", \n",
        "               \"enrolled in edu inst last wk\", \"marital status\", \"major industry code\", \n",
        "               \"major occupation code\", \"mace\", \"hispanic Origin\", \"sex\", \n",
        "               \"member of a labor union\", \"reason for unemployment\", \n",
        "               \"full or part time employment stat\", \"capital gains\", \"capital losses\", \n",
        "               \"divdends from stocks\", \n",
        "               #\"federal income tax liability\", \n",
        "               \"tax filer status\", \n",
        "               \"region of previous residence\", \"state of previous residence\", \n",
        "               \"detailed household and family stat\", \"detailed household summary in household\", \n",
        "               \"instance weight\", \"migration code-change in msa\", \"migration code-change in reg\", \n",
        "               \"migration code-move within reg\", \"live in this house 1 year ago\", \n",
        "               \"migration prev res in sunbelt\", \"num persons worked for employer\", \n",
        "               \"family members under 18\", \n",
        "               #\"total person earnings\", \n",
        "               \"country of birth father\",\n",
        "               \"country of birth mother\", \"country of birth self\", \"citizenship\", \n",
        "               \"total person income\", \"own business or self employed\", \"veterans benefits\", \"weeks worked in the year\", \"year of survey\", \"taxable income amount\"]\n",
        "\n",
        "train_df = pd.read_csv('census-income.data', header=None, names=header_list)\n",
        "train_df.info()\n",
        "train_df.head(8)\n"
      ],
      "execution_count": 0,
      "outputs": [
        {
          "output_type": "stream",
          "text": [
            "<class 'pandas.core.frame.DataFrame'>\n",
            "RangeIndex: 199523 entries, 0 to 199522\n",
            "Data columns (total 42 columns):\n",
            "age                                        199523 non-null int64\n",
            "class of worker                            199523 non-null object\n",
            "industry code                              199523 non-null int64\n",
            "occupation code                            199523 non-null int64\n",
            "education                                  199523 non-null object\n",
            "wage per hour                              199523 non-null int64\n",
            "enrolled in edu inst last wk               199523 non-null object\n",
            "marital status                             199523 non-null object\n",
            "major industry code                        199523 non-null object\n",
            "major occupation code                      199523 non-null object\n",
            "mace                                       199523 non-null object\n",
            "hispanic Origin                            199523 non-null object\n",
            "sex                                        199523 non-null object\n",
            "member of a labor union                    199523 non-null object\n",
            "reason for unemployment                    199523 non-null object\n",
            "full or part time employment stat          199523 non-null object\n",
            "capital gains                              199523 non-null int64\n",
            "capital losses                             199523 non-null int64\n",
            "divdends from stocks                       199523 non-null int64\n",
            "tax filer status                           199523 non-null object\n",
            "region of previous residence               199523 non-null object\n",
            "state of previous residence                199523 non-null object\n",
            "detailed household and family stat         199523 non-null object\n",
            "detailed household summary in household    199523 non-null object\n",
            "instance weight                            199523 non-null float64\n",
            "migration code-change in msa               199523 non-null object\n",
            "migration code-change in reg               199523 non-null object\n",
            "migration code-move within reg             199523 non-null object\n",
            "live in this house 1 year ago              199523 non-null object\n",
            "migration prev res in sunbelt              199523 non-null object\n",
            "num persons worked for employer            199523 non-null int64\n",
            "family members under 18                    199523 non-null object\n",
            "country of birth father                    199523 non-null object\n",
            "country of birth mother                    199523 non-null object\n",
            "country of birth self                      199523 non-null object\n",
            "citizenship                                199523 non-null object\n",
            "total person income                        199523 non-null int64\n",
            "own business or self employed              199523 non-null object\n",
            "veterans benefits                          199523 non-null int64\n",
            "weeks worked in the year                   199523 non-null int64\n",
            "year of survey                             199523 non-null int64\n",
            "taxable income amount                      199523 non-null object\n",
            "dtypes: float64(1), int64(12), object(29)\n",
            "memory usage: 63.9+ MB\n"
          ],
          "name": "stdout"
        },
        {
          "output_type": "execute_result",
          "data": {
            "text/html": [
              "<div>\n",
              "<style scoped>\n",
              "    .dataframe tbody tr th:only-of-type {\n",
              "        vertical-align: middle;\n",
              "    }\n",
              "\n",
              "    .dataframe tbody tr th {\n",
              "        vertical-align: top;\n",
              "    }\n",
              "\n",
              "    .dataframe thead th {\n",
              "        text-align: right;\n",
              "    }\n",
              "</style>\n",
              "<table border=\"1\" class=\"dataframe\">\n",
              "  <thead>\n",
              "    <tr style=\"text-align: right;\">\n",
              "      <th></th>\n",
              "      <th>age</th>\n",
              "      <th>class of worker</th>\n",
              "      <th>industry code</th>\n",
              "      <th>occupation code</th>\n",
              "      <th>education</th>\n",
              "      <th>wage per hour</th>\n",
              "      <th>enrolled in edu inst last wk</th>\n",
              "      <th>marital status</th>\n",
              "      <th>major industry code</th>\n",
              "      <th>major occupation code</th>\n",
              "      <th>mace</th>\n",
              "      <th>hispanic Origin</th>\n",
              "      <th>sex</th>\n",
              "      <th>member of a labor union</th>\n",
              "      <th>reason for unemployment</th>\n",
              "      <th>full or part time employment stat</th>\n",
              "      <th>capital gains</th>\n",
              "      <th>capital losses</th>\n",
              "      <th>divdends from stocks</th>\n",
              "      <th>tax filer status</th>\n",
              "      <th>region of previous residence</th>\n",
              "      <th>state of previous residence</th>\n",
              "      <th>detailed household and family stat</th>\n",
              "      <th>detailed household summary in household</th>\n",
              "      <th>instance weight</th>\n",
              "      <th>migration code-change in msa</th>\n",
              "      <th>migration code-change in reg</th>\n",
              "      <th>migration code-move within reg</th>\n",
              "      <th>live in this house 1 year ago</th>\n",
              "      <th>migration prev res in sunbelt</th>\n",
              "      <th>num persons worked for employer</th>\n",
              "      <th>family members under 18</th>\n",
              "      <th>country of birth father</th>\n",
              "      <th>country of birth mother</th>\n",
              "      <th>country of birth self</th>\n",
              "      <th>citizenship</th>\n",
              "      <th>total person income</th>\n",
              "      <th>own business or self employed</th>\n",
              "      <th>veterans benefits</th>\n",
              "      <th>weeks worked in the year</th>\n",
              "      <th>year of survey</th>\n",
              "      <th>taxable income amount</th>\n",
              "    </tr>\n",
              "  </thead>\n",
              "  <tbody>\n",
              "    <tr>\n",
              "      <th>0</th>\n",
              "      <td>73</td>\n",
              "      <td>Not in universe</td>\n",
              "      <td>0</td>\n",
              "      <td>0</td>\n",
              "      <td>High school graduate</td>\n",
              "      <td>0</td>\n",
              "      <td>Not in universe</td>\n",
              "      <td>Widowed</td>\n",
              "      <td>Not in universe or children</td>\n",
              "      <td>Not in universe</td>\n",
              "      <td>White</td>\n",
              "      <td>All other</td>\n",
              "      <td>Female</td>\n",
              "      <td>Not in universe</td>\n",
              "      <td>Not in universe</td>\n",
              "      <td>Not in labor force</td>\n",
              "      <td>0</td>\n",
              "      <td>0</td>\n",
              "      <td>0</td>\n",
              "      <td>Nonfiler</td>\n",
              "      <td>Not in universe</td>\n",
              "      <td>Not in universe</td>\n",
              "      <td>Other Rel 18+ ever marr not in subfamily</td>\n",
              "      <td>Other relative of householder</td>\n",
              "      <td>1700.09</td>\n",
              "      <td>?</td>\n",
              "      <td>?</td>\n",
              "      <td>?</td>\n",
              "      <td>Not in universe under 1 year old</td>\n",
              "      <td>?</td>\n",
              "      <td>0</td>\n",
              "      <td>Not in universe</td>\n",
              "      <td>United-States</td>\n",
              "      <td>United-States</td>\n",
              "      <td>United-States</td>\n",
              "      <td>Native- Born in the United States</td>\n",
              "      <td>0</td>\n",
              "      <td>Not in universe</td>\n",
              "      <td>2</td>\n",
              "      <td>0</td>\n",
              "      <td>95</td>\n",
              "      <td>- 50000.</td>\n",
              "    </tr>\n",
              "    <tr>\n",
              "      <th>1</th>\n",
              "      <td>58</td>\n",
              "      <td>Self-employed-not incorporated</td>\n",
              "      <td>4</td>\n",
              "      <td>34</td>\n",
              "      <td>Some college but no degree</td>\n",
              "      <td>0</td>\n",
              "      <td>Not in universe</td>\n",
              "      <td>Divorced</td>\n",
              "      <td>Construction</td>\n",
              "      <td>Precision production craft &amp; repair</td>\n",
              "      <td>White</td>\n",
              "      <td>All other</td>\n",
              "      <td>Male</td>\n",
              "      <td>Not in universe</td>\n",
              "      <td>Not in universe</td>\n",
              "      <td>Children or Armed Forces</td>\n",
              "      <td>0</td>\n",
              "      <td>0</td>\n",
              "      <td>0</td>\n",
              "      <td>Head of household</td>\n",
              "      <td>South</td>\n",
              "      <td>Arkansas</td>\n",
              "      <td>Householder</td>\n",
              "      <td>Householder</td>\n",
              "      <td>1053.55</td>\n",
              "      <td>MSA to MSA</td>\n",
              "      <td>Same county</td>\n",
              "      <td>Same county</td>\n",
              "      <td>No</td>\n",
              "      <td>Yes</td>\n",
              "      <td>1</td>\n",
              "      <td>Not in universe</td>\n",
              "      <td>United-States</td>\n",
              "      <td>United-States</td>\n",
              "      <td>United-States</td>\n",
              "      <td>Native- Born in the United States</td>\n",
              "      <td>0</td>\n",
              "      <td>Not in universe</td>\n",
              "      <td>2</td>\n",
              "      <td>52</td>\n",
              "      <td>94</td>\n",
              "      <td>- 50000.</td>\n",
              "    </tr>\n",
              "    <tr>\n",
              "      <th>2</th>\n",
              "      <td>18</td>\n",
              "      <td>Not in universe</td>\n",
              "      <td>0</td>\n",
              "      <td>0</td>\n",
              "      <td>10th grade</td>\n",
              "      <td>0</td>\n",
              "      <td>High school</td>\n",
              "      <td>Never married</td>\n",
              "      <td>Not in universe or children</td>\n",
              "      <td>Not in universe</td>\n",
              "      <td>Asian or Pacific Islander</td>\n",
              "      <td>All other</td>\n",
              "      <td>Female</td>\n",
              "      <td>Not in universe</td>\n",
              "      <td>Not in universe</td>\n",
              "      <td>Not in labor force</td>\n",
              "      <td>0</td>\n",
              "      <td>0</td>\n",
              "      <td>0</td>\n",
              "      <td>Nonfiler</td>\n",
              "      <td>Not in universe</td>\n",
              "      <td>Not in universe</td>\n",
              "      <td>Child 18+ never marr Not in a subfamily</td>\n",
              "      <td>Child 18 or older</td>\n",
              "      <td>991.95</td>\n",
              "      <td>?</td>\n",
              "      <td>?</td>\n",
              "      <td>?</td>\n",
              "      <td>Not in universe under 1 year old</td>\n",
              "      <td>?</td>\n",
              "      <td>0</td>\n",
              "      <td>Not in universe</td>\n",
              "      <td>Vietnam</td>\n",
              "      <td>Vietnam</td>\n",
              "      <td>Vietnam</td>\n",
              "      <td>Foreign born- Not a citizen of U S</td>\n",
              "      <td>0</td>\n",
              "      <td>Not in universe</td>\n",
              "      <td>2</td>\n",
              "      <td>0</td>\n",
              "      <td>95</td>\n",
              "      <td>- 50000.</td>\n",
              "    </tr>\n",
              "    <tr>\n",
              "      <th>3</th>\n",
              "      <td>9</td>\n",
              "      <td>Not in universe</td>\n",
              "      <td>0</td>\n",
              "      <td>0</td>\n",
              "      <td>Children</td>\n",
              "      <td>0</td>\n",
              "      <td>Not in universe</td>\n",
              "      <td>Never married</td>\n",
              "      <td>Not in universe or children</td>\n",
              "      <td>Not in universe</td>\n",
              "      <td>White</td>\n",
              "      <td>All other</td>\n",
              "      <td>Female</td>\n",
              "      <td>Not in universe</td>\n",
              "      <td>Not in universe</td>\n",
              "      <td>Children or Armed Forces</td>\n",
              "      <td>0</td>\n",
              "      <td>0</td>\n",
              "      <td>0</td>\n",
              "      <td>Nonfiler</td>\n",
              "      <td>Not in universe</td>\n",
              "      <td>Not in universe</td>\n",
              "      <td>Child &lt;18 never marr not in subfamily</td>\n",
              "      <td>Child under 18 never married</td>\n",
              "      <td>1758.14</td>\n",
              "      <td>Nonmover</td>\n",
              "      <td>Nonmover</td>\n",
              "      <td>Nonmover</td>\n",
              "      <td>Yes</td>\n",
              "      <td>Not in universe</td>\n",
              "      <td>0</td>\n",
              "      <td>Both parents present</td>\n",
              "      <td>United-States</td>\n",
              "      <td>United-States</td>\n",
              "      <td>United-States</td>\n",
              "      <td>Native- Born in the United States</td>\n",
              "      <td>0</td>\n",
              "      <td>Not in universe</td>\n",
              "      <td>0</td>\n",
              "      <td>0</td>\n",
              "      <td>94</td>\n",
              "      <td>- 50000.</td>\n",
              "    </tr>\n",
              "    <tr>\n",
              "      <th>4</th>\n",
              "      <td>10</td>\n",
              "      <td>Not in universe</td>\n",
              "      <td>0</td>\n",
              "      <td>0</td>\n",
              "      <td>Children</td>\n",
              "      <td>0</td>\n",
              "      <td>Not in universe</td>\n",
              "      <td>Never married</td>\n",
              "      <td>Not in universe or children</td>\n",
              "      <td>Not in universe</td>\n",
              "      <td>White</td>\n",
              "      <td>All other</td>\n",
              "      <td>Female</td>\n",
              "      <td>Not in universe</td>\n",
              "      <td>Not in universe</td>\n",
              "      <td>Children or Armed Forces</td>\n",
              "      <td>0</td>\n",
              "      <td>0</td>\n",
              "      <td>0</td>\n",
              "      <td>Nonfiler</td>\n",
              "      <td>Not in universe</td>\n",
              "      <td>Not in universe</td>\n",
              "      <td>Child &lt;18 never marr not in subfamily</td>\n",
              "      <td>Child under 18 never married</td>\n",
              "      <td>1069.16</td>\n",
              "      <td>Nonmover</td>\n",
              "      <td>Nonmover</td>\n",
              "      <td>Nonmover</td>\n",
              "      <td>Yes</td>\n",
              "      <td>Not in universe</td>\n",
              "      <td>0</td>\n",
              "      <td>Both parents present</td>\n",
              "      <td>United-States</td>\n",
              "      <td>United-States</td>\n",
              "      <td>United-States</td>\n",
              "      <td>Native- Born in the United States</td>\n",
              "      <td>0</td>\n",
              "      <td>Not in universe</td>\n",
              "      <td>0</td>\n",
              "      <td>0</td>\n",
              "      <td>94</td>\n",
              "      <td>- 50000.</td>\n",
              "    </tr>\n",
              "    <tr>\n",
              "      <th>5</th>\n",
              "      <td>48</td>\n",
              "      <td>Private</td>\n",
              "      <td>40</td>\n",
              "      <td>10</td>\n",
              "      <td>Some college but no degree</td>\n",
              "      <td>1200</td>\n",
              "      <td>Not in universe</td>\n",
              "      <td>Married-civilian spouse present</td>\n",
              "      <td>Entertainment</td>\n",
              "      <td>Professional specialty</td>\n",
              "      <td>Amer Indian Aleut or Eskimo</td>\n",
              "      <td>All other</td>\n",
              "      <td>Female</td>\n",
              "      <td>No</td>\n",
              "      <td>Not in universe</td>\n",
              "      <td>Full-time schedules</td>\n",
              "      <td>0</td>\n",
              "      <td>0</td>\n",
              "      <td>0</td>\n",
              "      <td>Joint both under 65</td>\n",
              "      <td>Not in universe</td>\n",
              "      <td>Not in universe</td>\n",
              "      <td>Spouse of householder</td>\n",
              "      <td>Spouse of householder</td>\n",
              "      <td>162.61</td>\n",
              "      <td>?</td>\n",
              "      <td>?</td>\n",
              "      <td>?</td>\n",
              "      <td>Not in universe under 1 year old</td>\n",
              "      <td>?</td>\n",
              "      <td>1</td>\n",
              "      <td>Not in universe</td>\n",
              "      <td>Philippines</td>\n",
              "      <td>United-States</td>\n",
              "      <td>United-States</td>\n",
              "      <td>Native- Born in the United States</td>\n",
              "      <td>2</td>\n",
              "      <td>Not in universe</td>\n",
              "      <td>2</td>\n",
              "      <td>52</td>\n",
              "      <td>95</td>\n",
              "      <td>- 50000.</td>\n",
              "    </tr>\n",
              "    <tr>\n",
              "      <th>6</th>\n",
              "      <td>42</td>\n",
              "      <td>Private</td>\n",
              "      <td>34</td>\n",
              "      <td>3</td>\n",
              "      <td>Bachelors degree(BA AB BS)</td>\n",
              "      <td>0</td>\n",
              "      <td>Not in universe</td>\n",
              "      <td>Married-civilian spouse present</td>\n",
              "      <td>Finance insurance and real estate</td>\n",
              "      <td>Executive admin and managerial</td>\n",
              "      <td>White</td>\n",
              "      <td>All other</td>\n",
              "      <td>Male</td>\n",
              "      <td>Not in universe</td>\n",
              "      <td>Not in universe</td>\n",
              "      <td>Children or Armed Forces</td>\n",
              "      <td>5178</td>\n",
              "      <td>0</td>\n",
              "      <td>0</td>\n",
              "      <td>Joint both under 65</td>\n",
              "      <td>Not in universe</td>\n",
              "      <td>Not in universe</td>\n",
              "      <td>Householder</td>\n",
              "      <td>Householder</td>\n",
              "      <td>1535.86</td>\n",
              "      <td>Nonmover</td>\n",
              "      <td>Nonmover</td>\n",
              "      <td>Nonmover</td>\n",
              "      <td>Yes</td>\n",
              "      <td>Not in universe</td>\n",
              "      <td>6</td>\n",
              "      <td>Not in universe</td>\n",
              "      <td>United-States</td>\n",
              "      <td>United-States</td>\n",
              "      <td>United-States</td>\n",
              "      <td>Native- Born in the United States</td>\n",
              "      <td>0</td>\n",
              "      <td>Not in universe</td>\n",
              "      <td>2</td>\n",
              "      <td>52</td>\n",
              "      <td>94</td>\n",
              "      <td>- 50000.</td>\n",
              "    </tr>\n",
              "    <tr>\n",
              "      <th>7</th>\n",
              "      <td>28</td>\n",
              "      <td>Private</td>\n",
              "      <td>4</td>\n",
              "      <td>40</td>\n",
              "      <td>High school graduate</td>\n",
              "      <td>0</td>\n",
              "      <td>Not in universe</td>\n",
              "      <td>Never married</td>\n",
              "      <td>Construction</td>\n",
              "      <td>Handlers equip cleaners etc</td>\n",
              "      <td>White</td>\n",
              "      <td>All other</td>\n",
              "      <td>Female</td>\n",
              "      <td>Not in universe</td>\n",
              "      <td>Job loser - on layoff</td>\n",
              "      <td>Unemployed full-time</td>\n",
              "      <td>0</td>\n",
              "      <td>0</td>\n",
              "      <td>0</td>\n",
              "      <td>Single</td>\n",
              "      <td>Not in universe</td>\n",
              "      <td>Not in universe</td>\n",
              "      <td>Secondary individual</td>\n",
              "      <td>Nonrelative of householder</td>\n",
              "      <td>898.83</td>\n",
              "      <td>?</td>\n",
              "      <td>?</td>\n",
              "      <td>?</td>\n",
              "      <td>Not in universe under 1 year old</td>\n",
              "      <td>?</td>\n",
              "      <td>4</td>\n",
              "      <td>Not in universe</td>\n",
              "      <td>United-States</td>\n",
              "      <td>United-States</td>\n",
              "      <td>United-States</td>\n",
              "      <td>Native- Born in the United States</td>\n",
              "      <td>0</td>\n",
              "      <td>Not in universe</td>\n",
              "      <td>2</td>\n",
              "      <td>30</td>\n",
              "      <td>95</td>\n",
              "      <td>- 50000.</td>\n",
              "    </tr>\n",
              "  </tbody>\n",
              "</table>\n",
              "</div>"
            ],
            "text/plain": [
              "   age                  class of worker  ...  year of survey  taxable income amount\n",
              "0   73                  Not in universe  ...              95               - 50000.\n",
              "1   58   Self-employed-not incorporated  ...              94               - 50000.\n",
              "2   18                  Not in universe  ...              95               - 50000.\n",
              "3    9                  Not in universe  ...              94               - 50000.\n",
              "4   10                  Not in universe  ...              94               - 50000.\n",
              "5   48                          Private  ...              95               - 50000.\n",
              "6   42                          Private  ...              94               - 50000.\n",
              "7   28                          Private  ...              95               - 50000.\n",
              "\n",
              "[8 rows x 42 columns]"
            ]
          },
          "metadata": {
            "tags": []
          },
          "execution_count": 35
        }
      ]
    },
    {
      "cell_type": "code",
      "metadata": {
        "id": "4AWeweqF2CSC",
        "colab_type": "code",
        "outputId": "2ddb084a-2b24-4230-98df-5873884d612e",
        "colab": {
          "base_uri": "https://localhost:8080/",
          "height": 1000
        }
      },
      "source": [
        "test_df = pd.read_csv('census-income.test', header=None, names=header_list[:-1])\n",
        "test_df.info()\n",
        "test_df.head()"
      ],
      "execution_count": 0,
      "outputs": [
        {
          "output_type": "stream",
          "text": [
            "<class 'pandas.core.frame.DataFrame'>\n",
            "RangeIndex: 99762 entries, 0 to 99761\n",
            "Data columns (total 41 columns):\n",
            "age                                        99762 non-null int64\n",
            "class of worker                            99762 non-null object\n",
            "industry code                              99762 non-null int64\n",
            "occupation code                            99762 non-null int64\n",
            "education                                  99762 non-null object\n",
            "wage per hour                              99762 non-null int64\n",
            "enrolled in edu inst last wk               99762 non-null object\n",
            "marital status                             99762 non-null object\n",
            "major industry code                        99762 non-null object\n",
            "major occupation code                      99762 non-null object\n",
            "mace                                       99762 non-null object\n",
            "hispanic Origin                            99357 non-null object\n",
            "sex                                        99762 non-null object\n",
            "member of a labor union                    99762 non-null object\n",
            "reason for unemployment                    99762 non-null object\n",
            "full or part time employment stat          99762 non-null object\n",
            "capital gains                              99762 non-null int64\n",
            "capital losses                             99762 non-null int64\n",
            "divdends from stocks                       99762 non-null int64\n",
            "tax filer status                           99762 non-null object\n",
            "region of previous residence               99762 non-null object\n",
            "state of previous residence                99432 non-null object\n",
            "detailed household and family stat         99762 non-null object\n",
            "detailed household summary in household    99762 non-null object\n",
            "instance weight                            99762 non-null float64\n",
            "migration code-change in msa               49816 non-null object\n",
            "migration code-change in reg               49816 non-null object\n",
            "migration code-move within reg             49816 non-null object\n",
            "live in this house 1 year ago              99762 non-null object\n",
            "migration prev res in sunbelt              49816 non-null object\n",
            "num persons worked for employer            99762 non-null int64\n",
            "family members under 18                    99762 non-null object\n",
            "country of birth father                    96333 non-null object\n",
            "country of birth mother                    96690 non-null object\n",
            "country of birth self                      97998 non-null object\n",
            "citizenship                                99762 non-null object\n",
            "total person income                        99762 non-null int64\n",
            "own business or self employed              99762 non-null object\n",
            "veterans benefits                          99762 non-null int64\n",
            "weeks worked in the year                   99762 non-null int64\n",
            "year of survey                             99762 non-null int64\n",
            "dtypes: float64(1), int64(12), object(28)\n",
            "memory usage: 31.2+ MB\n"
          ],
          "name": "stdout"
        },
        {
          "output_type": "execute_result",
          "data": {
            "text/html": [
              "<div>\n",
              "<style scoped>\n",
              "    .dataframe tbody tr th:only-of-type {\n",
              "        vertical-align: middle;\n",
              "    }\n",
              "\n",
              "    .dataframe tbody tr th {\n",
              "        vertical-align: top;\n",
              "    }\n",
              "\n",
              "    .dataframe thead th {\n",
              "        text-align: right;\n",
              "    }\n",
              "</style>\n",
              "<table border=\"1\" class=\"dataframe\">\n",
              "  <thead>\n",
              "    <tr style=\"text-align: right;\">\n",
              "      <th></th>\n",
              "      <th>age</th>\n",
              "      <th>class of worker</th>\n",
              "      <th>industry code</th>\n",
              "      <th>occupation code</th>\n",
              "      <th>education</th>\n",
              "      <th>wage per hour</th>\n",
              "      <th>enrolled in edu inst last wk</th>\n",
              "      <th>marital status</th>\n",
              "      <th>major industry code</th>\n",
              "      <th>major occupation code</th>\n",
              "      <th>mace</th>\n",
              "      <th>hispanic Origin</th>\n",
              "      <th>sex</th>\n",
              "      <th>member of a labor union</th>\n",
              "      <th>reason for unemployment</th>\n",
              "      <th>full or part time employment stat</th>\n",
              "      <th>capital gains</th>\n",
              "      <th>capital losses</th>\n",
              "      <th>divdends from stocks</th>\n",
              "      <th>tax filer status</th>\n",
              "      <th>region of previous residence</th>\n",
              "      <th>state of previous residence</th>\n",
              "      <th>detailed household and family stat</th>\n",
              "      <th>detailed household summary in household</th>\n",
              "      <th>instance weight</th>\n",
              "      <th>migration code-change in msa</th>\n",
              "      <th>migration code-change in reg</th>\n",
              "      <th>migration code-move within reg</th>\n",
              "      <th>live in this house 1 year ago</th>\n",
              "      <th>migration prev res in sunbelt</th>\n",
              "      <th>num persons worked for employer</th>\n",
              "      <th>family members under 18</th>\n",
              "      <th>country of birth father</th>\n",
              "      <th>country of birth mother</th>\n",
              "      <th>country of birth self</th>\n",
              "      <th>citizenship</th>\n",
              "      <th>total person income</th>\n",
              "      <th>own business or self employed</th>\n",
              "      <th>veterans benefits</th>\n",
              "      <th>weeks worked in the year</th>\n",
              "      <th>year of survey</th>\n",
              "    </tr>\n",
              "  </thead>\n",
              "  <tbody>\n",
              "    <tr>\n",
              "      <th>0</th>\n",
              "      <td>38</td>\n",
              "      <td>Private</td>\n",
              "      <td>6</td>\n",
              "      <td>36</td>\n",
              "      <td>1st 2nd 3rd or 4th grade</td>\n",
              "      <td>0</td>\n",
              "      <td>Not in universe</td>\n",
              "      <td>Married-civilian spouse present</td>\n",
              "      <td>Manufacturing-durable goods</td>\n",
              "      <td>Machine operators assmblrs &amp; inspctrs</td>\n",
              "      <td>White</td>\n",
              "      <td>Mexican (Mexicano)</td>\n",
              "      <td>Female</td>\n",
              "      <td>Not in universe</td>\n",
              "      <td>Not in universe</td>\n",
              "      <td>Full-time schedules</td>\n",
              "      <td>0</td>\n",
              "      <td>0</td>\n",
              "      <td>0</td>\n",
              "      <td>Joint one under 65 &amp; one 65+</td>\n",
              "      <td>Not in universe</td>\n",
              "      <td>Not in universe</td>\n",
              "      <td>Spouse of householder</td>\n",
              "      <td>Spouse of householder</td>\n",
              "      <td>1032.38</td>\n",
              "      <td>NaN</td>\n",
              "      <td>NaN</td>\n",
              "      <td>NaN</td>\n",
              "      <td>Not in universe under 1 year old</td>\n",
              "      <td>NaN</td>\n",
              "      <td>4</td>\n",
              "      <td>Not in universe</td>\n",
              "      <td>Mexico</td>\n",
              "      <td>Mexico</td>\n",
              "      <td>Mexico</td>\n",
              "      <td>Foreign born- Not a citizen of U S</td>\n",
              "      <td>0</td>\n",
              "      <td>Not in universe</td>\n",
              "      <td>2</td>\n",
              "      <td>12</td>\n",
              "      <td>95</td>\n",
              "    </tr>\n",
              "    <tr>\n",
              "      <th>1</th>\n",
              "      <td>44</td>\n",
              "      <td>Self-employed-not incorporated</td>\n",
              "      <td>37</td>\n",
              "      <td>12</td>\n",
              "      <td>Associates degree-occup /vocational</td>\n",
              "      <td>0</td>\n",
              "      <td>Not in universe</td>\n",
              "      <td>Married-civilian spouse present</td>\n",
              "      <td>Business and repair services</td>\n",
              "      <td>Professional specialty</td>\n",
              "      <td>White</td>\n",
              "      <td>All other</td>\n",
              "      <td>Female</td>\n",
              "      <td>Not in universe</td>\n",
              "      <td>Not in universe</td>\n",
              "      <td>PT for econ reasons usually PT</td>\n",
              "      <td>0</td>\n",
              "      <td>0</td>\n",
              "      <td>2500</td>\n",
              "      <td>Joint both under 65</td>\n",
              "      <td>Not in universe</td>\n",
              "      <td>Not in universe</td>\n",
              "      <td>Spouse of householder</td>\n",
              "      <td>Spouse of householder</td>\n",
              "      <td>1462.33</td>\n",
              "      <td>NaN</td>\n",
              "      <td>NaN</td>\n",
              "      <td>NaN</td>\n",
              "      <td>Not in universe under 1 year old</td>\n",
              "      <td>NaN</td>\n",
              "      <td>1</td>\n",
              "      <td>Not in universe</td>\n",
              "      <td>United-States</td>\n",
              "      <td>United-States</td>\n",
              "      <td>United-States</td>\n",
              "      <td>Native- Born in the United States</td>\n",
              "      <td>0</td>\n",
              "      <td>Not in universe</td>\n",
              "      <td>2</td>\n",
              "      <td>26</td>\n",
              "      <td>95</td>\n",
              "    </tr>\n",
              "    <tr>\n",
              "      <th>2</th>\n",
              "      <td>2</td>\n",
              "      <td>Not in universe</td>\n",
              "      <td>0</td>\n",
              "      <td>0</td>\n",
              "      <td>Children</td>\n",
              "      <td>0</td>\n",
              "      <td>Not in universe</td>\n",
              "      <td>Never married</td>\n",
              "      <td>Not in universe or children</td>\n",
              "      <td>Not in universe</td>\n",
              "      <td>White</td>\n",
              "      <td>Mexican-American</td>\n",
              "      <td>Male</td>\n",
              "      <td>Not in universe</td>\n",
              "      <td>Not in universe</td>\n",
              "      <td>Children or Armed Forces</td>\n",
              "      <td>0</td>\n",
              "      <td>0</td>\n",
              "      <td>0</td>\n",
              "      <td>Nonfiler</td>\n",
              "      <td>Not in universe</td>\n",
              "      <td>Not in universe</td>\n",
              "      <td>Child &lt;18 never marr not in subfamily</td>\n",
              "      <td>Child under 18 never married</td>\n",
              "      <td>1601.75</td>\n",
              "      <td>NaN</td>\n",
              "      <td>NaN</td>\n",
              "      <td>NaN</td>\n",
              "      <td>Not in universe under 1 year old</td>\n",
              "      <td>NaN</td>\n",
              "      <td>0</td>\n",
              "      <td>Both parents present</td>\n",
              "      <td>United-States</td>\n",
              "      <td>United-States</td>\n",
              "      <td>United-States</td>\n",
              "      <td>Native- Born in the United States</td>\n",
              "      <td>0</td>\n",
              "      <td>Not in universe</td>\n",
              "      <td>0</td>\n",
              "      <td>0</td>\n",
              "      <td>95</td>\n",
              "    </tr>\n",
              "    <tr>\n",
              "      <th>3</th>\n",
              "      <td>35</td>\n",
              "      <td>Private</td>\n",
              "      <td>29</td>\n",
              "      <td>3</td>\n",
              "      <td>High school graduate</td>\n",
              "      <td>0</td>\n",
              "      <td>Not in universe</td>\n",
              "      <td>Divorced</td>\n",
              "      <td>Transportation</td>\n",
              "      <td>Executive admin and managerial</td>\n",
              "      <td>White</td>\n",
              "      <td>All other</td>\n",
              "      <td>Female</td>\n",
              "      <td>Not in universe</td>\n",
              "      <td>Not in universe</td>\n",
              "      <td>Children or Armed Forces</td>\n",
              "      <td>0</td>\n",
              "      <td>0</td>\n",
              "      <td>0</td>\n",
              "      <td>Head of household</td>\n",
              "      <td>Not in universe</td>\n",
              "      <td>Not in universe</td>\n",
              "      <td>Householder</td>\n",
              "      <td>Householder</td>\n",
              "      <td>1866.88</td>\n",
              "      <td>Nonmover</td>\n",
              "      <td>Nonmover</td>\n",
              "      <td>Nonmover</td>\n",
              "      <td>Yes</td>\n",
              "      <td>Not in universe</td>\n",
              "      <td>5</td>\n",
              "      <td>Not in universe</td>\n",
              "      <td>United-States</td>\n",
              "      <td>United-States</td>\n",
              "      <td>United-States</td>\n",
              "      <td>Native- Born in the United States</td>\n",
              "      <td>2</td>\n",
              "      <td>Not in universe</td>\n",
              "      <td>2</td>\n",
              "      <td>52</td>\n",
              "      <td>94</td>\n",
              "    </tr>\n",
              "    <tr>\n",
              "      <th>4</th>\n",
              "      <td>49</td>\n",
              "      <td>Private</td>\n",
              "      <td>4</td>\n",
              "      <td>34</td>\n",
              "      <td>High school graduate</td>\n",
              "      <td>0</td>\n",
              "      <td>Not in universe</td>\n",
              "      <td>Divorced</td>\n",
              "      <td>Construction</td>\n",
              "      <td>Precision production craft &amp; repair</td>\n",
              "      <td>White</td>\n",
              "      <td>All other</td>\n",
              "      <td>Male</td>\n",
              "      <td>Not in universe</td>\n",
              "      <td>Not in universe</td>\n",
              "      <td>Full-time schedules</td>\n",
              "      <td>0</td>\n",
              "      <td>0</td>\n",
              "      <td>0</td>\n",
              "      <td>Single</td>\n",
              "      <td>Not in universe</td>\n",
              "      <td>Not in universe</td>\n",
              "      <td>Secondary individual</td>\n",
              "      <td>Nonrelative of householder</td>\n",
              "      <td>1394.54</td>\n",
              "      <td>NaN</td>\n",
              "      <td>NaN</td>\n",
              "      <td>NaN</td>\n",
              "      <td>Not in universe under 1 year old</td>\n",
              "      <td>NaN</td>\n",
              "      <td>4</td>\n",
              "      <td>Not in universe</td>\n",
              "      <td>United-States</td>\n",
              "      <td>United-States</td>\n",
              "      <td>United-States</td>\n",
              "      <td>Native- Born in the United States</td>\n",
              "      <td>0</td>\n",
              "      <td>Not in universe</td>\n",
              "      <td>2</td>\n",
              "      <td>50</td>\n",
              "      <td>95</td>\n",
              "    </tr>\n",
              "  </tbody>\n",
              "</table>\n",
              "</div>"
            ],
            "text/plain": [
              "   age  ... year of survey\n",
              "0   38  ...             95\n",
              "1   44  ...             95\n",
              "2    2  ...             95\n",
              "3   35  ...             94\n",
              "4   49  ...             95\n",
              "\n",
              "[5 rows x 41 columns]"
            ]
          },
          "metadata": {
            "tags": []
          },
          "execution_count": 39
        }
      ]
    },
    {
      "cell_type": "markdown",
      "metadata": {
        "id": "VKFV1pzCEdNk",
        "colab_type": "text"
      },
      "source": [
        "## Inspect data\n"
      ]
    },
    {
      "cell_type": "code",
      "metadata": {
        "id": "iICB4F8mFroY",
        "colab_type": "code",
        "colab": {
          "base_uri": "https://localhost:8080/",
          "height": 85
        },
        "outputId": "10137ff1-5d47-403a-e320-5579bf31db2b"
      },
      "source": [
        "train_df['class of worker'].unique()"
      ],
      "execution_count": 42,
      "outputs": [
        {
          "output_type": "execute_result",
          "data": {
            "text/plain": [
              "array([' Not in universe', ' Self-employed-not incorporated', ' Private',\n",
              "       ' Local government', ' Federal government',\n",
              "       ' Self-employed-incorporated', ' State government',\n",
              "       ' Never worked', ' Without pay'], dtype=object)"
            ]
          },
          "metadata": {
            "tags": []
          },
          "execution_count": 42
        }
      ]
    },
    {
      "cell_type": "code",
      "metadata": {
        "id": "KoX9Vd7_HLtJ",
        "colab_type": "code",
        "colab": {
          "base_uri": "https://localhost:8080/",
          "height": 119
        },
        "outputId": "8992d0dd-29d9-411a-dc08-735e216a4cfa"
      },
      "source": [
        "train_df['age'].unique()"
      ],
      "execution_count": 47,
      "outputs": [
        {
          "output_type": "execute_result",
          "data": {
            "text/plain": [
              "array([73, 58, 18,  9, 10, 48, 42, 28, 47, 34,  8, 32, 51, 46, 26, 13, 39,\n",
              "       16, 35, 12, 27, 56, 55,  2,  1, 37,  4, 63, 25, 81, 11, 30,  7, 66,\n",
              "       84, 52,  5, 36, 72, 61, 41, 90, 49,  6,  0, 33, 57, 50, 24, 17, 53,\n",
              "       40, 54, 22, 29, 85, 38, 76, 21, 31, 74, 19, 15,  3, 43, 68, 71, 45,\n",
              "       62, 23, 69, 75, 44, 59, 60, 64, 65, 70, 67, 78, 20, 14, 83, 86, 89,\n",
              "       77, 79, 82, 80, 87, 88])"
            ]
          },
          "metadata": {
            "tags": []
          },
          "execution_count": 47
        }
      ]
    },
    {
      "cell_type": "markdown",
      "metadata": {
        "colab_type": "text",
        "id": "L_86P4tv4K2h"
      },
      "source": [
        "## Making a submission"
      ]
    },
    {
      "cell_type": "code",
      "metadata": {
        "colab_type": "code",
        "id": "gCme0MVW7DiD",
        "colab": {}
      },
      "source": [
        "import numpy as np\n",
        "\n",
        "submission_df = pd.read_csv('sampleSubmission.csv')\n",
        "submission_df['income class'] = np.random.randint(0, 2, submission_df.shape[0])\n",
        "submission_df['income class'].head()"
      ],
      "execution_count": 0,
      "outputs": []
    },
    {
      "cell_type": "code",
      "metadata": {
        "colab_type": "code",
        "id": "R4cUd6VT94VJ",
        "colab": {}
      },
      "source": [
        "submission_df.to_csv('submission.csv')"
      ],
      "execution_count": 0,
      "outputs": []
    },
    {
      "cell_type": "markdown",
      "metadata": {
        "colab_type": "text",
        "id": "fVYsZv1SBzGQ"
      },
      "source": [
        "```\n",
        "usage: kaggle competitions submit [-h] -f FILE_NAME -m MESSAGE [-q]\n",
        "                                  [competition]\n",
        "\n",
        "required arguments:\n",
        "  -f FILE_NAME, --file FILE_NAME\n",
        "                        File for upload (full path)\n",
        "  -m MESSAGE, --message MESSAGE\n",
        "                        Message describing this submission\n",
        "\n",
        "optional arguments:\n",
        "  -h, --help            show this help message and exit\n",
        "  competition           Competition URL suffix (use \"kaggle competitions list\" to show options)\n",
        "                        If empty, the default competition will be used (use \"kaggle config set competition\")\"\n",
        "  -q, --quiet           Suppress printing information about the upload/download progress\n",
        "```"
      ]
    },
    {
      "cell_type": "code",
      "metadata": {
        "colab_type": "code",
        "id": "ajUqJKv24Qqu",
        "colab": {}
      },
      "source": [
        "!kaggle competitions submit -c ml-challenge-week6 -f submission.csv -m \"Test\""
      ],
      "execution_count": 0,
      "outputs": []
    },
    {
      "cell_type": "markdown",
      "metadata": {
        "colab_type": "text",
        "id": "CgdvQI_qCDGY"
      },
      "source": [
        "## List competition submissions"
      ]
    },
    {
      "cell_type": "markdown",
      "metadata": {
        "colab_type": "text",
        "id": "DI606jnHCfPS"
      },
      "source": [
        "```\n",
        "usage: kaggle competitions submissions [-h] [-v] [-q] [competition]\n",
        "\n",
        "optional arguments:\n",
        "  -h, --help   show this help message and exit\n",
        "  competition  Competition URL suffix (use \"kaggle competitions list\" to show options)\n",
        "               If empty, the default competition will be used (use \"kaggle config set competition\")\"\n",
        "  -v, --csv    Print results in CSV format (if not set print in table format)\n",
        "  -q, --quiet  Suppress printing information about the upload/download progress\n",
        "```"
      ]
    },
    {
      "cell_type": "code",
      "metadata": {
        "colab_type": "code",
        "id": "ujdSqDtCCRAF",
        "colab": {}
      },
      "source": [
        "!kaggle competitions submissions ml-challenge-week6"
      ],
      "execution_count": 0,
      "outputs": []
    },
    {
      "cell_type": "markdown",
      "metadata": {
        "colab_type": "text",
        "id": "h0pLaPQZCjE0"
      },
      "source": [
        "## Get competition leaderboard"
      ]
    },
    {
      "cell_type": "markdown",
      "metadata": {
        "colab_type": "text",
        "id": "clfm4GWoCocy"
      },
      "source": [
        "```\n",
        "usage: kaggle competitions leaderboard [-h] [-s] [-d] [-p PATH] [-v] [-q]\n",
        "                                       [competition]\n",
        "\n",
        "optional arguments:\n",
        "  -h, --help            show this help message and exit\n",
        "  competition           Competition URL suffix (use \"kaggle competitions list\" to show options)\n",
        "                        If empty, the default competition will be used (use \"kaggle config set competition\")\"\n",
        "  -s, --show            Show the top of the leaderboard\n",
        "  -d, --download        Download entire leaderboard\n",
        "  -p PATH, --path PATH  Folder where file(s) will be downloaded, defaults to current working directory\n",
        "  -v, --csv             Print results in CSV format (if not set print in table format)\n",
        "  -q, --quiet           Suppress printing information about the upload/download progress\n",
        "```"
      ]
    },
    {
      "cell_type": "code",
      "metadata": {
        "colab_type": "code",
        "id": "zAH0lJOGCtHC",
        "colab": {
          "base_uri": "https://localhost:8080/",
          "height": 136
        },
        "outputId": "f673a552-e90d-4a7c-8ae5-c8b30f78c538"
      },
      "source": [
        "!kaggle competitions leaderboard ml-challenge-week6 -s"
      ],
      "execution_count": 48,
      "outputs": [
        {
          "output_type": "stream",
          "text": [
            "Warning: Looks like you're using an outdated API Version, please consider updating (server 1.5.6 / client 1.5.4)\n",
            " teamId  teamName                    submissionDate       score    \n",
            "-------  --------------------------  -------------------  -------  \n",
            "4467419  God mode (or cheating)      2020-02-28 14:32:13  1.00000  \n",
            "4467274  ML Challenge Solution       2020-02-28 12:56:08  0.85963  \n",
            "4448485  ML Challenge Benchmark      2020-02-25 07:14:07  0.72384  \n",
            "4467459  Random guessing (be above)  2020-02-28 14:39:17  0.50006  \n"
          ],
          "name": "stdout"
        }
      ]
    },
    {
      "cell_type": "markdown",
      "metadata": {
        "colab_type": "text",
        "id": "SxdB6P_ulkfa",
        "toc-hr-collapsed": false
      },
      "source": [
        "## Uploading a Colab notebook to Kaggle Kernels"
      ]
    },
    {
      "cell_type": "markdown",
      "metadata": {
        "colab_type": "text",
        "id": "o-NDs2dImDG0"
      },
      "source": [
        "### Downloading a notebook from Colab\n",
        "\n",
        "To download from Colab, use **File** | **Download .ipynb**"
      ]
    },
    {
      "cell_type": "markdown",
      "metadata": {
        "colab_type": "text",
        "id": "zUMAuin2mbbW"
      },
      "source": [
        "### Then upload the notebook to your Colab runtime"
      ]
    },
    {
      "cell_type": "code",
      "metadata": {
        "colab_type": "code",
        "id": "qox_MozfmF2Y",
        "colab": {}
      },
      "source": [
        "uploaded = files.upload()\n",
        "notebook_path = list(uploaded.keys())[0]"
      ],
      "execution_count": 0,
      "outputs": []
    },
    {
      "cell_type": "code",
      "metadata": {
        "colab_type": "code",
        "id": "7BT_rPcuoMsd",
        "colab": {}
      },
      "source": [
        "!mkdir -p export\n",
        "!mv \"$notebook_path\" export/"
      ],
      "execution_count": 0,
      "outputs": []
    },
    {
      "cell_type": "markdown",
      "metadata": {
        "colab_type": "text",
        "id": "Kgr50t9CFNTY"
      },
      "source": [
        "### Initialize metadata file for a kernel\n",
        "\n",
        "```\n",
        "usage: kaggle kernels init [-h] [-p FOLDER]\n",
        "\n",
        "optional arguments:\n",
        "  -h, --help            show this help message and exit\n",
        "  -p FOLDER, --path FOLDER\n",
        "                        Folder for upload, containing data files and a special kernel-metadata.json file       \n",
        "                        (https://github.com/Kaggle/kaggle-api/wiki/Kernel-Metadata). \n",
        "                        Defaults to current working directory\n",
        "```"
      ]
    },
    {
      "cell_type": "code",
      "metadata": {
        "colab_type": "code",
        "id": "J1gMt15SFRQh",
        "colab": {}
      },
      "source": [
        "!kaggle kernels init -p export"
      ],
      "execution_count": 0,
      "outputs": []
    },
    {
      "cell_type": "code",
      "metadata": {
        "colab_type": "code",
        "id": "Ls0Umf85q9UE",
        "colab": {}
      },
      "source": [
        "import re\n",
        "your_kaggle_username = 'Your kaggle username'\n",
        "notebook_title = 'New Kernel'\n",
        "new_kernel_slug = re.sub(r'[^a-z0-9]+', '-', notebook_title.lower())\n",
        "notebook_path = 'export'\n",
        "metadata_file = 'export/kernel-metadata.json'"
      ],
      "execution_count": 0,
      "outputs": []
    },
    {
      "cell_type": "code",
      "metadata": {
        "colab_type": "code",
        "id": "hcPAUJknG1kj",
        "colab": {}
      },
      "source": [
        "import json\n",
        "\n",
        "with open(metadata_file) as json_file:\n",
        "    metadata = json.load(json_file)\n",
        "\n",
        "metadata['code_file'] = notebook_path\n",
        "metadata['kernel_type'] = 'notebook'\n",
        "metadata['language'] = 'python'\n",
        "metadata['id'] = f'{your_kaggle_username}/{new_kernel_slug}'\n",
        "metadata['title'] = notebook_title\n",
        "\n",
        "with open(metadata_file, 'w') as outfile:\n",
        "    json.dump(metadata, outfile, indent=4)"
      ],
      "execution_count": 0,
      "outputs": []
    },
    {
      "cell_type": "code",
      "metadata": {
        "colab_type": "code",
        "id": "PyX-cbzIoj-V",
        "colab": {}
      },
      "source": [
        "!cat export/kernel-metadata.json"
      ],
      "execution_count": 0,
      "outputs": []
    },
    {
      "cell_type": "markdown",
      "metadata": {
        "colab_type": "text",
        "id": "_PK5ql93DS1y"
      },
      "source": [
        "```\n",
        "usage: kaggle kernels push [-h] -p FOLDER\n",
        "\n",
        "optional arguments:\n",
        "  -h, --help            show this help message and exit\n",
        "  -p FOLDER, --path FOLDER\n",
        "                        Folder for upload, containing data files and a special kernel-metadata.json file \n",
        "                        (https://github.com/Kaggle/kaggle-api/wiki/Kernel-Metadata). \n",
        "                        Defaults to current working directory\n",
        "```"
      ]
    },
    {
      "cell_type": "code",
      "metadata": {
        "colab_type": "code",
        "id": "VDP5xJPklqYk",
        "colab": {}
      },
      "source": [
        "!kaggle kernels push -p export"
      ],
      "execution_count": 0,
      "outputs": []
    }
  ]
}